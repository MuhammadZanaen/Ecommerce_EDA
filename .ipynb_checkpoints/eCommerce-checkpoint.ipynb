{
 "cells": [
  {
   "cell_type": "code",
   "execution_count": 3,
   "metadata": {},
   "outputs": [],
   "source": [
    "import pandas as pd\n",
    "import numpy as np\n",
    "import matplotlib.pyplot as plt\n",
    "%matplotlib inline\n",
    "import seaborn as sns\n"
   ]
  },
  {
   "cell_type": "code",
   "execution_count": 6,
   "metadata": {},
   "outputs": [],
   "source": [
    "df= pd.read_csv(\"Pakistan Largest Ecommerce Dataset.csv\")"
   ]
  },
  {
   "cell_type": "markdown",
   "metadata": {},
   "source": [
    "## First 5 rows"
   ]
  },
  {
   "cell_type": "code",
   "execution_count": 7,
   "metadata": {
    "scrolled": true
   },
   "outputs": [
    {
     "data": {
      "text/html": [
       "<div>\n",
       "<style scoped>\n",
       "    .dataframe tbody tr th:only-of-type {\n",
       "        vertical-align: middle;\n",
       "    }\n",
       "\n",
       "    .dataframe tbody tr th {\n",
       "        vertical-align: top;\n",
       "    }\n",
       "\n",
       "    .dataframe thead th {\n",
       "        text-align: right;\n",
       "    }\n",
       "</style>\n",
       "<table border=\"1\" class=\"dataframe\">\n",
       "  <thead>\n",
       "    <tr style=\"text-align: right;\">\n",
       "      <th></th>\n",
       "      <th>item_id</th>\n",
       "      <th>status</th>\n",
       "      <th>created_at</th>\n",
       "      <th>sku</th>\n",
       "      <th>price</th>\n",
       "      <th>qty_ordered</th>\n",
       "      <th>grand_total</th>\n",
       "      <th>increment_id</th>\n",
       "      <th>category_name_1</th>\n",
       "      <th>sales_commission_code</th>\n",
       "      <th>...</th>\n",
       "      <th>Month</th>\n",
       "      <th>Customer Since</th>\n",
       "      <th>M-Y</th>\n",
       "      <th>FY</th>\n",
       "      <th>Customer ID</th>\n",
       "      <th>Unnamed: 21</th>\n",
       "      <th>Unnamed: 22</th>\n",
       "      <th>Unnamed: 23</th>\n",
       "      <th>Unnamed: 24</th>\n",
       "      <th>Unnamed: 25</th>\n",
       "    </tr>\n",
       "  </thead>\n",
       "  <tbody>\n",
       "    <tr>\n",
       "      <td>0</td>\n",
       "      <td>211131.0</td>\n",
       "      <td>complete</td>\n",
       "      <td>7/1/2016</td>\n",
       "      <td>kreations_YI 06-L</td>\n",
       "      <td>1950.0</td>\n",
       "      <td>1.0</td>\n",
       "      <td>1950.0</td>\n",
       "      <td>100147443</td>\n",
       "      <td>Women's Fashion</td>\n",
       "      <td>\\N</td>\n",
       "      <td>...</td>\n",
       "      <td>7.0</td>\n",
       "      <td>2016-7</td>\n",
       "      <td>7-2016</td>\n",
       "      <td>FY17</td>\n",
       "      <td>1.0</td>\n",
       "      <td>NaN</td>\n",
       "      <td>NaN</td>\n",
       "      <td>NaN</td>\n",
       "      <td>NaN</td>\n",
       "      <td>NaN</td>\n",
       "    </tr>\n",
       "    <tr>\n",
       "      <td>1</td>\n",
       "      <td>211133.0</td>\n",
       "      <td>canceled</td>\n",
       "      <td>7/1/2016</td>\n",
       "      <td>kcc_Buy 2 Frey Air Freshener &amp; Get 1 Kasual Bo...</td>\n",
       "      <td>240.0</td>\n",
       "      <td>1.0</td>\n",
       "      <td>240.0</td>\n",
       "      <td>100147444</td>\n",
       "      <td>Beauty &amp; Grooming</td>\n",
       "      <td>\\N</td>\n",
       "      <td>...</td>\n",
       "      <td>7.0</td>\n",
       "      <td>2016-7</td>\n",
       "      <td>7-2016</td>\n",
       "      <td>FY17</td>\n",
       "      <td>2.0</td>\n",
       "      <td>NaN</td>\n",
       "      <td>NaN</td>\n",
       "      <td>NaN</td>\n",
       "      <td>NaN</td>\n",
       "      <td>NaN</td>\n",
       "    </tr>\n",
       "    <tr>\n",
       "      <td>2</td>\n",
       "      <td>211134.0</td>\n",
       "      <td>canceled</td>\n",
       "      <td>7/1/2016</td>\n",
       "      <td>Ego_UP0017-999-MR0</td>\n",
       "      <td>2450.0</td>\n",
       "      <td>1.0</td>\n",
       "      <td>2450.0</td>\n",
       "      <td>100147445</td>\n",
       "      <td>Women's Fashion</td>\n",
       "      <td>\\N</td>\n",
       "      <td>...</td>\n",
       "      <td>7.0</td>\n",
       "      <td>2016-7</td>\n",
       "      <td>7-2016</td>\n",
       "      <td>FY17</td>\n",
       "      <td>3.0</td>\n",
       "      <td>NaN</td>\n",
       "      <td>NaN</td>\n",
       "      <td>NaN</td>\n",
       "      <td>NaN</td>\n",
       "      <td>NaN</td>\n",
       "    </tr>\n",
       "    <tr>\n",
       "      <td>3</td>\n",
       "      <td>211135.0</td>\n",
       "      <td>complete</td>\n",
       "      <td>7/1/2016</td>\n",
       "      <td>kcc_krone deal</td>\n",
       "      <td>360.0</td>\n",
       "      <td>1.0</td>\n",
       "      <td>60.0</td>\n",
       "      <td>100147446</td>\n",
       "      <td>Beauty &amp; Grooming</td>\n",
       "      <td>R-FSD-52352</td>\n",
       "      <td>...</td>\n",
       "      <td>7.0</td>\n",
       "      <td>2016-7</td>\n",
       "      <td>7-2016</td>\n",
       "      <td>FY17</td>\n",
       "      <td>4.0</td>\n",
       "      <td>NaN</td>\n",
       "      <td>NaN</td>\n",
       "      <td>NaN</td>\n",
       "      <td>NaN</td>\n",
       "      <td>NaN</td>\n",
       "    </tr>\n",
       "    <tr>\n",
       "      <td>4</td>\n",
       "      <td>211136.0</td>\n",
       "      <td>order_refunded</td>\n",
       "      <td>7/1/2016</td>\n",
       "      <td>BK7010400AG</td>\n",
       "      <td>555.0</td>\n",
       "      <td>2.0</td>\n",
       "      <td>1110.0</td>\n",
       "      <td>100147447</td>\n",
       "      <td>Soghaat</td>\n",
       "      <td>\\N</td>\n",
       "      <td>...</td>\n",
       "      <td>7.0</td>\n",
       "      <td>2016-7</td>\n",
       "      <td>7-2016</td>\n",
       "      <td>FY17</td>\n",
       "      <td>5.0</td>\n",
       "      <td>NaN</td>\n",
       "      <td>NaN</td>\n",
       "      <td>NaN</td>\n",
       "      <td>NaN</td>\n",
       "      <td>NaN</td>\n",
       "    </tr>\n",
       "  </tbody>\n",
       "</table>\n",
       "<p>5 rows × 26 columns</p>\n",
       "</div>"
      ],
      "text/plain": [
       "    item_id          status created_at  \\\n",
       "0  211131.0        complete   7/1/2016   \n",
       "1  211133.0        canceled   7/1/2016   \n",
       "2  211134.0        canceled   7/1/2016   \n",
       "3  211135.0        complete   7/1/2016   \n",
       "4  211136.0  order_refunded   7/1/2016   \n",
       "\n",
       "                                                 sku   price  qty_ordered  \\\n",
       "0                                  kreations_YI 06-L  1950.0          1.0   \n",
       "1  kcc_Buy 2 Frey Air Freshener & Get 1 Kasual Bo...   240.0          1.0   \n",
       "2                                 Ego_UP0017-999-MR0  2450.0          1.0   \n",
       "3                                     kcc_krone deal   360.0          1.0   \n",
       "4                                        BK7010400AG   555.0          2.0   \n",
       "\n",
       "   grand_total increment_id    category_name_1 sales_commission_code  ...  \\\n",
       "0       1950.0    100147443    Women's Fashion                    \\N  ...   \n",
       "1        240.0    100147444  Beauty & Grooming                    \\N  ...   \n",
       "2       2450.0    100147445    Women's Fashion                    \\N  ...   \n",
       "3         60.0    100147446  Beauty & Grooming           R-FSD-52352  ...   \n",
       "4       1110.0    100147447            Soghaat                    \\N  ...   \n",
       "\n",
       "   Month Customer Since     M-Y    FY Customer ID  Unnamed: 21  Unnamed: 22  \\\n",
       "0    7.0         2016-7  7-2016  FY17         1.0          NaN          NaN   \n",
       "1    7.0         2016-7  7-2016  FY17         2.0          NaN          NaN   \n",
       "2    7.0         2016-7  7-2016  FY17         3.0          NaN          NaN   \n",
       "3    7.0         2016-7  7-2016  FY17         4.0          NaN          NaN   \n",
       "4    7.0         2016-7  7-2016  FY17         5.0          NaN          NaN   \n",
       "\n",
       "  Unnamed: 23 Unnamed: 24 Unnamed: 25  \n",
       "0         NaN         NaN         NaN  \n",
       "1         NaN         NaN         NaN  \n",
       "2         NaN         NaN         NaN  \n",
       "3         NaN         NaN         NaN  \n",
       "4         NaN         NaN         NaN  \n",
       "\n",
       "[5 rows x 26 columns]"
      ]
     },
     "execution_count": 7,
     "metadata": {},
     "output_type": "execute_result"
    }
   ],
   "source": [
    "df.head()"
   ]
  },
  {
   "cell_type": "markdown",
   "metadata": {},
   "source": [
    "## Columns Name"
   ]
  },
  {
   "cell_type": "code",
   "execution_count": 6,
   "metadata": {
    "scrolled": false
   },
   "outputs": [
    {
     "data": {
      "text/plain": [
       "Index(['item_id', 'status', 'created_at', 'sku', 'price', 'qty_ordered',\n",
       "       'grand_total', 'increment_id', 'category_name_1',\n",
       "       'sales_commission_code', 'discount_amount', 'payment_method',\n",
       "       'Working Date', 'BI Status', ' MV ', 'Year', 'Month', 'Customer Since',\n",
       "       'M-Y', 'FY', 'Customer ID', 'Unnamed: 21', 'Unnamed: 22', 'Unnamed: 23',\n",
       "       'Unnamed: 24', 'Unnamed: 25'],\n",
       "      dtype='object')"
      ]
     },
     "execution_count": 6,
     "metadata": {},
     "output_type": "execute_result"
    }
   ],
   "source": [
    "df.columns"
   ]
  },
  {
   "cell_type": "markdown",
   "metadata": {},
   "source": [
    "## Creating a dataframe required"
   ]
  },
  {
   "cell_type": "code",
   "execution_count": 7,
   "metadata": {},
   "outputs": [],
   "source": [
    "df= df[[\"item_id\",\"status\",\"created_at\",\"sku\",\"price\",\"qty_ordered\",\"grand_total\",\"category_name_1\",\"sales_commission_code\",\"discount_amount\",\"payment_method\",\n",
    "        \"Working Date\",\"BI Status\",\"Year\",\"Month\",\"Customer Since\",\n",
    "       \"M-Y\", \"FY\", \"Customer ID\"]]"
   ]
  },
  {
   "cell_type": "code",
   "execution_count": 8,
   "metadata": {},
   "outputs": [
    {
     "data": {
      "text/html": [
       "<div>\n",
       "<style scoped>\n",
       "    .dataframe tbody tr th:only-of-type {\n",
       "        vertical-align: middle;\n",
       "    }\n",
       "\n",
       "    .dataframe tbody tr th {\n",
       "        vertical-align: top;\n",
       "    }\n",
       "\n",
       "    .dataframe thead th {\n",
       "        text-align: right;\n",
       "    }\n",
       "</style>\n",
       "<table border=\"1\" class=\"dataframe\">\n",
       "  <thead>\n",
       "    <tr style=\"text-align: right;\">\n",
       "      <th></th>\n",
       "      <th>item_id</th>\n",
       "      <th>status</th>\n",
       "      <th>created_at</th>\n",
       "      <th>sku</th>\n",
       "      <th>price</th>\n",
       "      <th>qty_ordered</th>\n",
       "      <th>grand_total</th>\n",
       "      <th>category_name_1</th>\n",
       "      <th>sales_commission_code</th>\n",
       "      <th>discount_amount</th>\n",
       "      <th>payment_method</th>\n",
       "      <th>Working Date</th>\n",
       "      <th>BI Status</th>\n",
       "      <th>Year</th>\n",
       "      <th>Month</th>\n",
       "      <th>Customer Since</th>\n",
       "      <th>M-Y</th>\n",
       "      <th>FY</th>\n",
       "      <th>Customer ID</th>\n",
       "    </tr>\n",
       "  </thead>\n",
       "  <tbody>\n",
       "    <tr>\n",
       "      <td>0</td>\n",
       "      <td>211131.0</td>\n",
       "      <td>complete</td>\n",
       "      <td>7/1/2016</td>\n",
       "      <td>kreations_YI 06-L</td>\n",
       "      <td>1950.0</td>\n",
       "      <td>1.0</td>\n",
       "      <td>1950.0</td>\n",
       "      <td>Women's Fashion</td>\n",
       "      <td>\\N</td>\n",
       "      <td>0.0</td>\n",
       "      <td>cod</td>\n",
       "      <td>7/1/2016</td>\n",
       "      <td>#REF!</td>\n",
       "      <td>2016.0</td>\n",
       "      <td>7.0</td>\n",
       "      <td>2016-7</td>\n",
       "      <td>7-2016</td>\n",
       "      <td>FY17</td>\n",
       "      <td>1.0</td>\n",
       "    </tr>\n",
       "    <tr>\n",
       "      <td>1</td>\n",
       "      <td>211133.0</td>\n",
       "      <td>canceled</td>\n",
       "      <td>7/1/2016</td>\n",
       "      <td>kcc_Buy 2 Frey Air Freshener &amp; Get 1 Kasual Bo...</td>\n",
       "      <td>240.0</td>\n",
       "      <td>1.0</td>\n",
       "      <td>240.0</td>\n",
       "      <td>Beauty &amp; Grooming</td>\n",
       "      <td>\\N</td>\n",
       "      <td>0.0</td>\n",
       "      <td>cod</td>\n",
       "      <td>7/1/2016</td>\n",
       "      <td>Gross</td>\n",
       "      <td>2016.0</td>\n",
       "      <td>7.0</td>\n",
       "      <td>2016-7</td>\n",
       "      <td>7-2016</td>\n",
       "      <td>FY17</td>\n",
       "      <td>2.0</td>\n",
       "    </tr>\n",
       "    <tr>\n",
       "      <td>2</td>\n",
       "      <td>211134.0</td>\n",
       "      <td>canceled</td>\n",
       "      <td>7/1/2016</td>\n",
       "      <td>Ego_UP0017-999-MR0</td>\n",
       "      <td>2450.0</td>\n",
       "      <td>1.0</td>\n",
       "      <td>2450.0</td>\n",
       "      <td>Women's Fashion</td>\n",
       "      <td>\\N</td>\n",
       "      <td>0.0</td>\n",
       "      <td>cod</td>\n",
       "      <td>7/1/2016</td>\n",
       "      <td>Gross</td>\n",
       "      <td>2016.0</td>\n",
       "      <td>7.0</td>\n",
       "      <td>2016-7</td>\n",
       "      <td>7-2016</td>\n",
       "      <td>FY17</td>\n",
       "      <td>3.0</td>\n",
       "    </tr>\n",
       "    <tr>\n",
       "      <td>3</td>\n",
       "      <td>211135.0</td>\n",
       "      <td>complete</td>\n",
       "      <td>7/1/2016</td>\n",
       "      <td>kcc_krone deal</td>\n",
       "      <td>360.0</td>\n",
       "      <td>1.0</td>\n",
       "      <td>60.0</td>\n",
       "      <td>Beauty &amp; Grooming</td>\n",
       "      <td>R-FSD-52352</td>\n",
       "      <td>300.0</td>\n",
       "      <td>cod</td>\n",
       "      <td>7/1/2016</td>\n",
       "      <td>Net</td>\n",
       "      <td>2016.0</td>\n",
       "      <td>7.0</td>\n",
       "      <td>2016-7</td>\n",
       "      <td>7-2016</td>\n",
       "      <td>FY17</td>\n",
       "      <td>4.0</td>\n",
       "    </tr>\n",
       "    <tr>\n",
       "      <td>4</td>\n",
       "      <td>211136.0</td>\n",
       "      <td>order_refunded</td>\n",
       "      <td>7/1/2016</td>\n",
       "      <td>BK7010400AG</td>\n",
       "      <td>555.0</td>\n",
       "      <td>2.0</td>\n",
       "      <td>1110.0</td>\n",
       "      <td>Soghaat</td>\n",
       "      <td>\\N</td>\n",
       "      <td>0.0</td>\n",
       "      <td>cod</td>\n",
       "      <td>7/1/2016</td>\n",
       "      <td>Valid</td>\n",
       "      <td>2016.0</td>\n",
       "      <td>7.0</td>\n",
       "      <td>2016-7</td>\n",
       "      <td>7-2016</td>\n",
       "      <td>FY17</td>\n",
       "      <td>5.0</td>\n",
       "    </tr>\n",
       "    <tr>\n",
       "      <td>...</td>\n",
       "      <td>...</td>\n",
       "      <td>...</td>\n",
       "      <td>...</td>\n",
       "      <td>...</td>\n",
       "      <td>...</td>\n",
       "      <td>...</td>\n",
       "      <td>...</td>\n",
       "      <td>...</td>\n",
       "      <td>...</td>\n",
       "      <td>...</td>\n",
       "      <td>...</td>\n",
       "      <td>...</td>\n",
       "      <td>...</td>\n",
       "      <td>...</td>\n",
       "      <td>...</td>\n",
       "      <td>...</td>\n",
       "      <td>...</td>\n",
       "      <td>...</td>\n",
       "      <td>...</td>\n",
       "    </tr>\n",
       "    <tr>\n",
       "      <td>1048570</td>\n",
       "      <td>NaN</td>\n",
       "      <td>NaN</td>\n",
       "      <td>NaN</td>\n",
       "      <td>NaN</td>\n",
       "      <td>NaN</td>\n",
       "      <td>NaN</td>\n",
       "      <td>NaN</td>\n",
       "      <td>NaN</td>\n",
       "      <td>NaN</td>\n",
       "      <td>NaN</td>\n",
       "      <td>NaN</td>\n",
       "      <td>NaN</td>\n",
       "      <td>NaN</td>\n",
       "      <td>NaN</td>\n",
       "      <td>NaN</td>\n",
       "      <td>NaN</td>\n",
       "      <td>NaN</td>\n",
       "      <td>NaN</td>\n",
       "      <td>NaN</td>\n",
       "    </tr>\n",
       "    <tr>\n",
       "      <td>1048571</td>\n",
       "      <td>NaN</td>\n",
       "      <td>NaN</td>\n",
       "      <td>NaN</td>\n",
       "      <td>NaN</td>\n",
       "      <td>NaN</td>\n",
       "      <td>NaN</td>\n",
       "      <td>NaN</td>\n",
       "      <td>NaN</td>\n",
       "      <td>NaN</td>\n",
       "      <td>NaN</td>\n",
       "      <td>NaN</td>\n",
       "      <td>NaN</td>\n",
       "      <td>NaN</td>\n",
       "      <td>NaN</td>\n",
       "      <td>NaN</td>\n",
       "      <td>NaN</td>\n",
       "      <td>NaN</td>\n",
       "      <td>NaN</td>\n",
       "      <td>NaN</td>\n",
       "    </tr>\n",
       "    <tr>\n",
       "      <td>1048572</td>\n",
       "      <td>NaN</td>\n",
       "      <td>NaN</td>\n",
       "      <td>NaN</td>\n",
       "      <td>NaN</td>\n",
       "      <td>NaN</td>\n",
       "      <td>NaN</td>\n",
       "      <td>NaN</td>\n",
       "      <td>NaN</td>\n",
       "      <td>NaN</td>\n",
       "      <td>NaN</td>\n",
       "      <td>NaN</td>\n",
       "      <td>NaN</td>\n",
       "      <td>NaN</td>\n",
       "      <td>NaN</td>\n",
       "      <td>NaN</td>\n",
       "      <td>NaN</td>\n",
       "      <td>NaN</td>\n",
       "      <td>NaN</td>\n",
       "      <td>NaN</td>\n",
       "    </tr>\n",
       "    <tr>\n",
       "      <td>1048573</td>\n",
       "      <td>NaN</td>\n",
       "      <td>NaN</td>\n",
       "      <td>NaN</td>\n",
       "      <td>NaN</td>\n",
       "      <td>NaN</td>\n",
       "      <td>NaN</td>\n",
       "      <td>NaN</td>\n",
       "      <td>NaN</td>\n",
       "      <td>NaN</td>\n",
       "      <td>NaN</td>\n",
       "      <td>NaN</td>\n",
       "      <td>NaN</td>\n",
       "      <td>NaN</td>\n",
       "      <td>NaN</td>\n",
       "      <td>NaN</td>\n",
       "      <td>NaN</td>\n",
       "      <td>NaN</td>\n",
       "      <td>NaN</td>\n",
       "      <td>NaN</td>\n",
       "    </tr>\n",
       "    <tr>\n",
       "      <td>1048574</td>\n",
       "      <td>NaN</td>\n",
       "      <td>NaN</td>\n",
       "      <td>NaN</td>\n",
       "      <td>NaN</td>\n",
       "      <td>NaN</td>\n",
       "      <td>NaN</td>\n",
       "      <td>NaN</td>\n",
       "      <td>NaN</td>\n",
       "      <td>NaN</td>\n",
       "      <td>NaN</td>\n",
       "      <td>NaN</td>\n",
       "      <td>NaN</td>\n",
       "      <td>NaN</td>\n",
       "      <td>NaN</td>\n",
       "      <td>NaN</td>\n",
       "      <td>NaN</td>\n",
       "      <td>NaN</td>\n",
       "      <td>NaN</td>\n",
       "      <td>NaN</td>\n",
       "    </tr>\n",
       "  </tbody>\n",
       "</table>\n",
       "<p>1048575 rows × 19 columns</p>\n",
       "</div>"
      ],
      "text/plain": [
       "          item_id          status created_at  \\\n",
       "0        211131.0        complete   7/1/2016   \n",
       "1        211133.0        canceled   7/1/2016   \n",
       "2        211134.0        canceled   7/1/2016   \n",
       "3        211135.0        complete   7/1/2016   \n",
       "4        211136.0  order_refunded   7/1/2016   \n",
       "...           ...             ...        ...   \n",
       "1048570       NaN             NaN        NaN   \n",
       "1048571       NaN             NaN        NaN   \n",
       "1048572       NaN             NaN        NaN   \n",
       "1048573       NaN             NaN        NaN   \n",
       "1048574       NaN             NaN        NaN   \n",
       "\n",
       "                                                       sku   price  \\\n",
       "0                                        kreations_YI 06-L  1950.0   \n",
       "1        kcc_Buy 2 Frey Air Freshener & Get 1 Kasual Bo...   240.0   \n",
       "2                                       Ego_UP0017-999-MR0  2450.0   \n",
       "3                                           kcc_krone deal   360.0   \n",
       "4                                              BK7010400AG   555.0   \n",
       "...                                                    ...     ...   \n",
       "1048570                                                NaN     NaN   \n",
       "1048571                                                NaN     NaN   \n",
       "1048572                                                NaN     NaN   \n",
       "1048573                                                NaN     NaN   \n",
       "1048574                                                NaN     NaN   \n",
       "\n",
       "         qty_ordered  grand_total    category_name_1 sales_commission_code  \\\n",
       "0                1.0       1950.0    Women's Fashion                    \\N   \n",
       "1                1.0        240.0  Beauty & Grooming                    \\N   \n",
       "2                1.0       2450.0    Women's Fashion                    \\N   \n",
       "3                1.0         60.0  Beauty & Grooming           R-FSD-52352   \n",
       "4                2.0       1110.0            Soghaat                    \\N   \n",
       "...              ...          ...                ...                   ...   \n",
       "1048570          NaN          NaN                NaN                   NaN   \n",
       "1048571          NaN          NaN                NaN                   NaN   \n",
       "1048572          NaN          NaN                NaN                   NaN   \n",
       "1048573          NaN          NaN                NaN                   NaN   \n",
       "1048574          NaN          NaN                NaN                   NaN   \n",
       "\n",
       "         discount_amount payment_method Working Date BI Status    Year  Month  \\\n",
       "0                    0.0            cod     7/1/2016     #REF!  2016.0    7.0   \n",
       "1                    0.0            cod     7/1/2016     Gross  2016.0    7.0   \n",
       "2                    0.0            cod     7/1/2016     Gross  2016.0    7.0   \n",
       "3                  300.0            cod     7/1/2016       Net  2016.0    7.0   \n",
       "4                    0.0            cod     7/1/2016     Valid  2016.0    7.0   \n",
       "...                  ...            ...          ...       ...     ...    ...   \n",
       "1048570              NaN            NaN          NaN       NaN     NaN    NaN   \n",
       "1048571              NaN            NaN          NaN       NaN     NaN    NaN   \n",
       "1048572              NaN            NaN          NaN       NaN     NaN    NaN   \n",
       "1048573              NaN            NaN          NaN       NaN     NaN    NaN   \n",
       "1048574              NaN            NaN          NaN       NaN     NaN    NaN   \n",
       "\n",
       "        Customer Since     M-Y    FY  Customer ID  \n",
       "0               2016-7  7-2016  FY17          1.0  \n",
       "1               2016-7  7-2016  FY17          2.0  \n",
       "2               2016-7  7-2016  FY17          3.0  \n",
       "3               2016-7  7-2016  FY17          4.0  \n",
       "4               2016-7  7-2016  FY17          5.0  \n",
       "...                ...     ...   ...          ...  \n",
       "1048570            NaN     NaN   NaN          NaN  \n",
       "1048571            NaN     NaN   NaN          NaN  \n",
       "1048572            NaN     NaN   NaN          NaN  \n",
       "1048573            NaN     NaN   NaN          NaN  \n",
       "1048574            NaN     NaN   NaN          NaN  \n",
       "\n",
       "[1048575 rows x 19 columns]"
      ]
     },
     "execution_count": 8,
     "metadata": {},
     "output_type": "execute_result"
    }
   ],
   "source": [
    "df"
   ]
  },
  {
   "cell_type": "markdown",
   "metadata": {},
   "source": [
    "## Checking null values"
   ]
  },
  {
   "cell_type": "code",
   "execution_count": 9,
   "metadata": {
    "scrolled": false
   },
   "outputs": [
    {
     "data": {
      "text/plain": [
       "item_id                  464051\n",
       "status                   464066\n",
       "created_at               464051\n",
       "sku                      464071\n",
       "price                    464051\n",
       "qty_ordered              464051\n",
       "grand_total              464051\n",
       "category_name_1          464215\n",
       "sales_commission_code    601226\n",
       "discount_amount          464051\n",
       "payment_method           464051\n",
       "Working Date             464051\n",
       "BI Status                464051\n",
       "Year                     464051\n",
       "Month                    464051\n",
       "Customer Since           464062\n",
       "M-Y                      464051\n",
       "FY                       464051\n",
       "Customer ID              464062\n",
       "dtype: int64"
      ]
     },
     "execution_count": 9,
     "metadata": {},
     "output_type": "execute_result"
    }
   ],
   "source": [
    "df.isnull().sum()"
   ]
  },
  {
   "cell_type": "markdown",
   "metadata": {},
   "source": [
    "## Droping null"
   ]
  },
  {
   "cell_type": "code",
   "execution_count": 8,
   "metadata": {
    "scrolled": true
   },
   "outputs": [],
   "source": [
    "df.dropna(subset=['item_id','Customer ID'] , inplace= True)"
   ]
  },
  {
   "cell_type": "markdown",
   "metadata": {},
   "source": [
    "## Checking datatypes"
   ]
  },
  {
   "cell_type": "code",
   "execution_count": 15,
   "metadata": {
    "scrolled": true
   },
   "outputs": [
    {
     "data": {
      "text/plain": [
       "item_id                  float64\n",
       "status                    object\n",
       "created_at                object\n",
       "sku                       object\n",
       "price                    float64\n",
       "qty_ordered              float64\n",
       "grand_total              float64\n",
       "category_name_1           object\n",
       "sales_commission_code     object\n",
       "discount_amount          float64\n",
       "payment_method            object\n",
       "Working Date              object\n",
       "BI Status                 object\n",
       "Year                     float64\n",
       "Month                    float64\n",
       "Customer Since            object\n",
       "M-Y                       object\n",
       "FY                        object\n",
       "Customer ID              float64\n",
       "dtype: object"
      ]
     },
     "execution_count": 15,
     "metadata": {},
     "output_type": "execute_result"
    }
   ],
   "source": [
    "df.dtypes"
   ]
  },
  {
   "cell_type": "markdown",
   "metadata": {},
   "source": [
    "## Changing datatypes"
   ]
  },
  {
   "cell_type": "code",
   "execution_count": 9,
   "metadata": {},
   "outputs": [],
   "source": [
    "df[\"item_id\"]= df[\"item_id\"].astype(int)\n",
    "df[\"Customer ID\"]= df[\"Customer ID\"].astype(int)\n",
    "df[\"price\"]= df[\"price\"].astype(int)\n",
    "df[\"qty_ordered\"]= df[\"qty_ordered\"].astype(int)\n",
    "df[\"grand_total\"]= df[\"grand_total\"].astype(int)\n",
    "df[\"discount_amount\"]= df[\"discount_amount\"].astype(int)\n",
    "df[\"Year\"]= df[\"Year\"].astype(int)\n",
    "df[\"Month\"]= df[\"Month\"].astype(int)\n",
    "\n",
    "\n",
    "df[\"created_at\"]= pd.to_datetime(df.created_at)\n",
    "df[\"Working Date\"]= pd.to_datetime(df[\"Working Date\"])"
   ]
  },
  {
   "cell_type": "code",
   "execution_count": 17,
   "metadata": {},
   "outputs": [
    {
     "data": {
      "text/plain": [
       "item_id                           int32\n",
       "status                           object\n",
       "created_at               datetime64[ns]\n",
       "sku                              object\n",
       "price                             int32\n",
       "qty_ordered                       int32\n",
       "grand_total                       int32\n",
       "category_name_1                  object\n",
       "sales_commission_code            object\n",
       "discount_amount                   int32\n",
       "payment_method                   object\n",
       "Working Date             datetime64[ns]\n",
       "BI Status                        object\n",
       "Year                              int32\n",
       "Month                             int32\n",
       "Customer Since                   object\n",
       "M-Y                              object\n",
       "FY                               object\n",
       "Customer ID                       int32\n",
       "dtype: object"
      ]
     },
     "execution_count": 17,
     "metadata": {},
     "output_type": "execute_result"
    }
   ],
   "source": [
    "df.dtypes"
   ]
  },
  {
   "cell_type": "markdown",
   "metadata": {},
   "source": [
    "## Renaming Columns"
   ]
  },
  {
   "cell_type": "code",
   "execution_count": 19,
   "metadata": {},
   "outputs": [],
   "source": [
    "df.rename(columns={'category_name_1':'Category'}, inplace= True)\n"
   ]
  },
  {
   "cell_type": "code",
   "execution_count": 20,
   "metadata": {
    "scrolled": false
   },
   "outputs": [
    {
     "data": {
      "text/html": [
       "<div>\n",
       "<style scoped>\n",
       "    .dataframe tbody tr th:only-of-type {\n",
       "        vertical-align: middle;\n",
       "    }\n",
       "\n",
       "    .dataframe tbody tr th {\n",
       "        vertical-align: top;\n",
       "    }\n",
       "\n",
       "    .dataframe thead th {\n",
       "        text-align: right;\n",
       "    }\n",
       "</style>\n",
       "<table border=\"1\" class=\"dataframe\">\n",
       "  <thead>\n",
       "    <tr style=\"text-align: right;\">\n",
       "      <th></th>\n",
       "      <th>item_id</th>\n",
       "      <th>status</th>\n",
       "      <th>created_at</th>\n",
       "      <th>sku</th>\n",
       "      <th>price</th>\n",
       "      <th>qty_ordered</th>\n",
       "      <th>grand_total</th>\n",
       "      <th>Category</th>\n",
       "      <th>sales_commission_code</th>\n",
       "      <th>discount_amount</th>\n",
       "      <th>payment_method</th>\n",
       "      <th>Working Date</th>\n",
       "      <th>BI Status</th>\n",
       "      <th>Year</th>\n",
       "      <th>Month</th>\n",
       "      <th>Customer Since</th>\n",
       "      <th>M-Y</th>\n",
       "      <th>FY</th>\n",
       "      <th>Customer ID</th>\n",
       "    </tr>\n",
       "  </thead>\n",
       "  <tbody>\n",
       "    <tr>\n",
       "      <td>0</td>\n",
       "      <td>211131</td>\n",
       "      <td>complete</td>\n",
       "      <td>2016-07-01</td>\n",
       "      <td>kreations_YI 06-L</td>\n",
       "      <td>1950</td>\n",
       "      <td>1</td>\n",
       "      <td>1950</td>\n",
       "      <td>Women's Fashion</td>\n",
       "      <td>\\N</td>\n",
       "      <td>0</td>\n",
       "      <td>cod</td>\n",
       "      <td>2016-07-01</td>\n",
       "      <td>#REF!</td>\n",
       "      <td>2016</td>\n",
       "      <td>7</td>\n",
       "      <td>2016-7</td>\n",
       "      <td>7-2016</td>\n",
       "      <td>FY17</td>\n",
       "      <td>1</td>\n",
       "    </tr>\n",
       "    <tr>\n",
       "      <td>1</td>\n",
       "      <td>211133</td>\n",
       "      <td>canceled</td>\n",
       "      <td>2016-07-01</td>\n",
       "      <td>kcc_Buy 2 Frey Air Freshener &amp; Get 1 Kasual Bo...</td>\n",
       "      <td>240</td>\n",
       "      <td>1</td>\n",
       "      <td>240</td>\n",
       "      <td>Beauty &amp; Grooming</td>\n",
       "      <td>\\N</td>\n",
       "      <td>0</td>\n",
       "      <td>cod</td>\n",
       "      <td>2016-07-01</td>\n",
       "      <td>Gross</td>\n",
       "      <td>2016</td>\n",
       "      <td>7</td>\n",
       "      <td>2016-7</td>\n",
       "      <td>7-2016</td>\n",
       "      <td>FY17</td>\n",
       "      <td>2</td>\n",
       "    </tr>\n",
       "    <tr>\n",
       "      <td>2</td>\n",
       "      <td>211134</td>\n",
       "      <td>canceled</td>\n",
       "      <td>2016-07-01</td>\n",
       "      <td>Ego_UP0017-999-MR0</td>\n",
       "      <td>2450</td>\n",
       "      <td>1</td>\n",
       "      <td>2450</td>\n",
       "      <td>Women's Fashion</td>\n",
       "      <td>\\N</td>\n",
       "      <td>0</td>\n",
       "      <td>cod</td>\n",
       "      <td>2016-07-01</td>\n",
       "      <td>Gross</td>\n",
       "      <td>2016</td>\n",
       "      <td>7</td>\n",
       "      <td>2016-7</td>\n",
       "      <td>7-2016</td>\n",
       "      <td>FY17</td>\n",
       "      <td>3</td>\n",
       "    </tr>\n",
       "    <tr>\n",
       "      <td>3</td>\n",
       "      <td>211135</td>\n",
       "      <td>complete</td>\n",
       "      <td>2016-07-01</td>\n",
       "      <td>kcc_krone deal</td>\n",
       "      <td>360</td>\n",
       "      <td>1</td>\n",
       "      <td>60</td>\n",
       "      <td>Beauty &amp; Grooming</td>\n",
       "      <td>R-FSD-52352</td>\n",
       "      <td>300</td>\n",
       "      <td>cod</td>\n",
       "      <td>2016-07-01</td>\n",
       "      <td>Net</td>\n",
       "      <td>2016</td>\n",
       "      <td>7</td>\n",
       "      <td>2016-7</td>\n",
       "      <td>7-2016</td>\n",
       "      <td>FY17</td>\n",
       "      <td>4</td>\n",
       "    </tr>\n",
       "    <tr>\n",
       "      <td>4</td>\n",
       "      <td>211136</td>\n",
       "      <td>order_refunded</td>\n",
       "      <td>2016-07-01</td>\n",
       "      <td>BK7010400AG</td>\n",
       "      <td>555</td>\n",
       "      <td>2</td>\n",
       "      <td>1110</td>\n",
       "      <td>Soghaat</td>\n",
       "      <td>\\N</td>\n",
       "      <td>0</td>\n",
       "      <td>cod</td>\n",
       "      <td>2016-07-01</td>\n",
       "      <td>Valid</td>\n",
       "      <td>2016</td>\n",
       "      <td>7</td>\n",
       "      <td>2016-7</td>\n",
       "      <td>7-2016</td>\n",
       "      <td>FY17</td>\n",
       "      <td>5</td>\n",
       "    </tr>\n",
       "  </tbody>\n",
       "</table>\n",
       "</div>"
      ],
      "text/plain": [
       "   item_id          status created_at  \\\n",
       "0   211131        complete 2016-07-01   \n",
       "1   211133        canceled 2016-07-01   \n",
       "2   211134        canceled 2016-07-01   \n",
       "3   211135        complete 2016-07-01   \n",
       "4   211136  order_refunded 2016-07-01   \n",
       "\n",
       "                                                 sku  price  qty_ordered  \\\n",
       "0                                  kreations_YI 06-L   1950            1   \n",
       "1  kcc_Buy 2 Frey Air Freshener & Get 1 Kasual Bo...    240            1   \n",
       "2                                 Ego_UP0017-999-MR0   2450            1   \n",
       "3                                     kcc_krone deal    360            1   \n",
       "4                                        BK7010400AG    555            2   \n",
       "\n",
       "   grand_total           Category sales_commission_code  discount_amount  \\\n",
       "0         1950    Women's Fashion                    \\N                0   \n",
       "1          240  Beauty & Grooming                    \\N                0   \n",
       "2         2450    Women's Fashion                    \\N                0   \n",
       "3           60  Beauty & Grooming           R-FSD-52352              300   \n",
       "4         1110            Soghaat                    \\N                0   \n",
       "\n",
       "  payment_method Working Date BI Status  Year  Month Customer Since     M-Y  \\\n",
       "0            cod   2016-07-01     #REF!  2016      7         2016-7  7-2016   \n",
       "1            cod   2016-07-01     Gross  2016      7         2016-7  7-2016   \n",
       "2            cod   2016-07-01     Gross  2016      7         2016-7  7-2016   \n",
       "3            cod   2016-07-01       Net  2016      7         2016-7  7-2016   \n",
       "4            cod   2016-07-01     Valid  2016      7         2016-7  7-2016   \n",
       "\n",
       "     FY  Customer ID  \n",
       "0  FY17            1  \n",
       "1  FY17            2  \n",
       "2  FY17            3  \n",
       "3  FY17            4  \n",
       "4  FY17            5  "
      ]
     },
     "execution_count": 20,
     "metadata": {},
     "output_type": "execute_result"
    }
   ],
   "source": [
    "df.head()"
   ]
  },
  {
   "cell_type": "markdown",
   "metadata": {},
   "source": [
    "## Statistics"
   ]
  },
  {
   "cell_type": "code",
   "execution_count": 21,
   "metadata": {
    "scrolled": false
   },
   "outputs": [
    {
     "data": {
      "text/html": [
       "<div>\n",
       "<style scoped>\n",
       "    .dataframe tbody tr th:only-of-type {\n",
       "        vertical-align: middle;\n",
       "    }\n",
       "\n",
       "    .dataframe tbody tr th {\n",
       "        vertical-align: top;\n",
       "    }\n",
       "\n",
       "    .dataframe thead th {\n",
       "        text-align: right;\n",
       "    }\n",
       "</style>\n",
       "<table border=\"1\" class=\"dataframe\">\n",
       "  <thead>\n",
       "    <tr style=\"text-align: right;\">\n",
       "      <th></th>\n",
       "      <th>item_id</th>\n",
       "      <th>price</th>\n",
       "      <th>qty_ordered</th>\n",
       "      <th>grand_total</th>\n",
       "      <th>discount_amount</th>\n",
       "      <th>Year</th>\n",
       "      <th>Month</th>\n",
       "      <th>Customer ID</th>\n",
       "    </tr>\n",
       "  </thead>\n",
       "  <tbody>\n",
       "    <tr>\n",
       "      <td>count</td>\n",
       "      <td>584513.000000</td>\n",
       "      <td>5.845130e+05</td>\n",
       "      <td>584513.000000</td>\n",
       "      <td>5.845130e+05</td>\n",
       "      <td>584513.000000</td>\n",
       "      <td>584513.000000</td>\n",
       "      <td>584513.000000</td>\n",
       "      <td>584513.000000</td>\n",
       "    </tr>\n",
       "    <tr>\n",
       "      <td>mean</td>\n",
       "      <td>565663.128495</td>\n",
       "      <td>6.348814e+03</td>\n",
       "      <td>1.296375</td>\n",
       "      <td>8.530578e+03</td>\n",
       "      <td>499.384809</td>\n",
       "      <td>2017.044097</td>\n",
       "      <td>7.167746</td>\n",
       "      <td>45790.511965</td>\n",
       "    </tr>\n",
       "    <tr>\n",
       "      <td>std</td>\n",
       "      <td>200120.929873</td>\n",
       "      <td>1.494940e+04</td>\n",
       "      <td>3.996094</td>\n",
       "      <td>6.132139e+04</td>\n",
       "      <td>1506.908401</td>\n",
       "      <td>0.707349</td>\n",
       "      <td>3.486270</td>\n",
       "      <td>34414.962389</td>\n",
       "    </tr>\n",
       "    <tr>\n",
       "      <td>min</td>\n",
       "      <td>211131.000000</td>\n",
       "      <td>0.000000e+00</td>\n",
       "      <td>1.000000</td>\n",
       "      <td>-1.594000e+03</td>\n",
       "      <td>-599.000000</td>\n",
       "      <td>2016.000000</td>\n",
       "      <td>1.000000</td>\n",
       "      <td>1.000000</td>\n",
       "    </tr>\n",
       "    <tr>\n",
       "      <td>25%</td>\n",
       "      <td>394997.000000</td>\n",
       "      <td>3.600000e+02</td>\n",
       "      <td>1.000000</td>\n",
       "      <td>9.450000e+02</td>\n",
       "      <td>0.000000</td>\n",
       "      <td>2017.000000</td>\n",
       "      <td>4.000000</td>\n",
       "      <td>13516.000000</td>\n",
       "    </tr>\n",
       "    <tr>\n",
       "      <td>50%</td>\n",
       "      <td>568417.000000</td>\n",
       "      <td>8.990000e+02</td>\n",
       "      <td>1.000000</td>\n",
       "      <td>1.960000e+03</td>\n",
       "      <td>0.000000</td>\n",
       "      <td>2017.000000</td>\n",
       "      <td>7.000000</td>\n",
       "      <td>42856.000000</td>\n",
       "    </tr>\n",
       "    <tr>\n",
       "      <td>75%</td>\n",
       "      <td>739102.000000</td>\n",
       "      <td>4.070000e+03</td>\n",
       "      <td>1.000000</td>\n",
       "      <td>6.999000e+03</td>\n",
       "      <td>160.000000</td>\n",
       "      <td>2018.000000</td>\n",
       "      <td>11.000000</td>\n",
       "      <td>73536.000000</td>\n",
       "    </tr>\n",
       "    <tr>\n",
       "      <td>max</td>\n",
       "      <td>905208.000000</td>\n",
       "      <td>1.012625e+06</td>\n",
       "      <td>1000.000000</td>\n",
       "      <td>1.788800e+07</td>\n",
       "      <td>90300.000000</td>\n",
       "      <td>2018.000000</td>\n",
       "      <td>12.000000</td>\n",
       "      <td>115326.000000</td>\n",
       "    </tr>\n",
       "  </tbody>\n",
       "</table>\n",
       "</div>"
      ],
      "text/plain": [
       "             item_id         price    qty_ordered   grand_total  \\\n",
       "count  584513.000000  5.845130e+05  584513.000000  5.845130e+05   \n",
       "mean   565663.128495  6.348814e+03       1.296375  8.530578e+03   \n",
       "std    200120.929873  1.494940e+04       3.996094  6.132139e+04   \n",
       "min    211131.000000  0.000000e+00       1.000000 -1.594000e+03   \n",
       "25%    394997.000000  3.600000e+02       1.000000  9.450000e+02   \n",
       "50%    568417.000000  8.990000e+02       1.000000  1.960000e+03   \n",
       "75%    739102.000000  4.070000e+03       1.000000  6.999000e+03   \n",
       "max    905208.000000  1.012625e+06    1000.000000  1.788800e+07   \n",
       "\n",
       "       discount_amount           Year          Month    Customer ID  \n",
       "count    584513.000000  584513.000000  584513.000000  584513.000000  \n",
       "mean        499.384809    2017.044097       7.167746   45790.511965  \n",
       "std        1506.908401       0.707349       3.486270   34414.962389  \n",
       "min        -599.000000    2016.000000       1.000000       1.000000  \n",
       "25%           0.000000    2017.000000       4.000000   13516.000000  \n",
       "50%           0.000000    2017.000000       7.000000   42856.000000  \n",
       "75%         160.000000    2018.000000      11.000000   73536.000000  \n",
       "max       90300.000000    2018.000000      12.000000  115326.000000  "
      ]
     },
     "execution_count": 21,
     "metadata": {},
     "output_type": "execute_result"
    }
   ],
   "source": [
    "df.describe()"
   ]
  },
  {
   "cell_type": "markdown",
   "metadata": {},
   "source": [
    "# All over"
   ]
  },
  {
   "cell_type": "markdown",
   "metadata": {},
   "source": [
    "## Spliting orders"
   ]
  },
  {
   "cell_type": "code",
   "execution_count": 23,
   "metadata": {},
   "outputs": [
    {
     "data": {
      "text/plain": [
       "2017    290920\n",
       "2018    159684\n",
       "2016    133909\n",
       "Name: Year, dtype: int64"
      ]
     },
     "execution_count": 23,
     "metadata": {},
     "output_type": "execute_result"
    }
   ],
   "source": [
    "df[\"Year\"].value_counts()"
   ]
  },
  {
   "cell_type": "code",
   "execution_count": 24,
   "metadata": {},
   "outputs": [],
   "source": [
    "values= ['290920','159684','133909']\n",
    "labels= ['2017','2018','2016']"
   ]
  },
  {
   "cell_type": "code",
   "execution_count": 25,
   "metadata": {},
   "outputs": [
    {
     "data": {
      "image/png": "[encoded data removed]",
      "text/plain": [
       "<Figure size 432x288 with 1 Axes>"
      ]
     },
     "metadata": {},
     "output_type": "display_data"
    }
   ],
   "source": [
    "plt.pie(values, labels= labels, autopct= \"%0.2f%%\")\n",
    "plt.show()"
   ]
  },
  {
   "cell_type": "markdown",
   "metadata": {},
   "source": [
    "## Categories"
   ]
  },
  {
   "cell_type": "code",
   "execution_count": 26,
   "metadata": {
    "scrolled": true
   },
   "outputs": [
    {
     "data": {
      "text/plain": [
       "Mobiles & Tablets     115710\n",
       "Men's Fashion          92219\n",
       "Women's Fashion        59720\n",
       "Appliances             52413\n",
       "Superstore             43613\n",
       "Beauty & Grooming      41494\n",
       "Soghaat                34011\n",
       "Others                 29212\n",
       "Home & Living          26504\n",
       "Entertainment          26326\n",
       "Health & Sports        17502\n",
       "Kids & Baby            16494\n",
       "Computing              15933\n",
       "\\N                      7850\n",
       "School & Education      3478\n",
       "Books                   1870\n",
       "Name: Category, dtype: int64"
      ]
     },
     "execution_count": 26,
     "metadata": {},
     "output_type": "execute_result"
    }
   ],
   "source": [
    "df[\"Category\"].value_counts()\n"
   ]
  },
  {
   "cell_type": "code",
   "execution_count": 28,
   "metadata": {},
   "outputs": [
    {
     "data": {
      "image/png": "[encoded data removed]",
      "text/plain": [
       "<Figure size 1080x360 with 1 Axes>"
      ]
     },
     "metadata": {},
     "output_type": "display_data"
    }
   ],
   "source": [
    "sns.countplot(df.Category, palette = 'hot' )\n",
    "plt.xticks(rotation= 45)\n",
    "plt.ylabel(\"Orders\")\n",
    "plt.show\n",
    "sns.set(rc={'figure.figsize':(15,5)})\n",
    "\n"
   ]
  },
  {
   "cell_type": "markdown",
   "metadata": {},
   "source": [
    "## Status"
   ]
  },
  {
   "cell_type": "code",
   "execution_count": 29,
   "metadata": {
    "scrolled": true
   },
   "outputs": [
    {
     "data": {
      "text/plain": [
       "complete          233685\n",
       "canceled          201244\n",
       "received           77289\n",
       "order_refunded     59524\n",
       "refund              8050\n",
       "cod                 2859\n",
       "paid                1159\n",
       "closed               494\n",
       "payment_review        57\n",
       "pending               48\n",
       "processing            33\n",
       "holded                31\n",
       "fraud                 10\n",
       "pending_paypal         7\n",
       "\\N                     4\n",
       "exchange               4\n",
       "Name: status, dtype: int64"
      ]
     },
     "execution_count": 29,
     "metadata": {},
     "output_type": "execute_result"
    }
   ],
   "source": [
    "df[\"status\"].value_counts()"
   ]
  },
  {
   "cell_type": "code",
   "execution_count": 30,
   "metadata": {
    "scrolled": true
   },
   "outputs": [
    {
     "data": {
      "image/png": "[encoded data removed]",
      "text/plain": [
       "<Figure size 1080x360 with 1 Axes>"
      ]
     },
     "metadata": {},
     "output_type": "display_data"
    }
   ],
   "source": [
    "sns.countplot(df.status,  )\n",
    "plt.xticks(rotation= 45)\n",
    "plt.show\n",
    "sns.set(rc={'figure.figsize':(15,5)})"
   ]
  },
  {
   "cell_type": "markdown",
   "metadata": {},
   "source": [
    "## Payment Methods"
   ]
  },
  {
   "cell_type": "code",
   "execution_count": 31,
   "metadata": {
    "scrolled": true
   },
   "outputs": [
    {
     "data": {
      "image/png": "[encoded data removed]",
      "text/plain": [
       "<Figure size 1080x360 with 1 Axes>"
      ]
     },
     "metadata": {},
     "output_type": "display_data"
    }
   ],
   "source": [
    "sns.countplot(df.payment_method, palette = 'hot' )\n",
    "plt.xticks(rotation= 45)\n",
    "plt.ylabel(\"Orders\")\n",
    "plt.show\n",
    "sns.set(rc={'figure.figsize':(15,5)})"
   ]
  },
  {
   "cell_type": "markdown",
   "metadata": {},
   "source": [
    "## Acc to Years"
   ]
  },
  {
   "cell_type": "code",
   "execution_count": 32,
   "metadata": {
    "scrolled": false
   },
   "outputs": [
    {
     "data": {
      "text/html": [
       "<div>\n",
       "<style scoped>\n",
       "    .dataframe tbody tr th:only-of-type {\n",
       "        vertical-align: middle;\n",
       "    }\n",
       "\n",
       "    .dataframe tbody tr th {\n",
       "        vertical-align: top;\n",
       "    }\n",
       "\n",
       "    .dataframe thead th {\n",
       "        text-align: right;\n",
       "    }\n",
       "</style>\n",
       "<table border=\"1\" class=\"dataframe\">\n",
       "  <thead>\n",
       "    <tr style=\"text-align: right;\">\n",
       "      <th></th>\n",
       "      <th>qty_ordered</th>\n",
       "      <th>grand_total</th>\n",
       "      <th>discount_amount</th>\n",
       "    </tr>\n",
       "    <tr>\n",
       "      <th>Year</th>\n",
       "      <th></th>\n",
       "      <th></th>\n",
       "      <th></th>\n",
       "    </tr>\n",
       "  </thead>\n",
       "  <tbody>\n",
       "    <tr>\n",
       "      <td>2016</td>\n",
       "      <td>148520.0</td>\n",
       "      <td>6.455753e+08</td>\n",
       "      <td>35284349.0</td>\n",
       "    </tr>\n",
       "    <tr>\n",
       "      <td>2017</td>\n",
       "      <td>362474.0</td>\n",
       "      <td>2.247234e+09</td>\n",
       "      <td>136138858.0</td>\n",
       "    </tr>\n",
       "    <tr>\n",
       "      <td>2018</td>\n",
       "      <td>246754.0</td>\n",
       "      <td>2.093424e+09</td>\n",
       "      <td>120473706.0</td>\n",
       "    </tr>\n",
       "  </tbody>\n",
       "</table>\n",
       "</div>"
      ],
      "text/plain": [
       "      qty_ordered   grand_total  discount_amount\n",
       "Year                                            \n",
       "2016     148520.0  6.455753e+08       35284349.0\n",
       "2017     362474.0  2.247234e+09      136138858.0\n",
       "2018     246754.0  2.093424e+09      120473706.0"
      ]
     },
     "execution_count": 32,
     "metadata": {},
     "output_type": "execute_result"
    }
   ],
   "source": [
    "Year_df= df.groupby(\"Year\")[\"qty_ordered\",\"grand_total\",\"discount_amount\"].sum()\n",
    "Year_df"
   ]
  },
  {
   "cell_type": "markdown",
   "metadata": {},
   "source": [
    "## Quantity Ordered"
   ]
  },
  {
   "cell_type": "code",
   "execution_count": 86,
   "metadata": {
    "scrolled": false
   },
   "outputs": [
    {
     "data": {
      "text/plain": [
       "Text(0, 0.5, 'Quantity ordered')"
      ]
     },
     "execution_count": 86,
     "metadata": {},
     "output_type": "execute_result"
    },
    {
     "data": {
      "image/png": "[encoded data removed]",
      "text/plain": [
       "<Figure size 288x360 with 1 Axes>"
      ]
     },
     "metadata": {},
     "output_type": "display_data"
    }
   ],
   "source": [
    "sns.barplot(x=Year_df.index, y= Year_df.qty_ordered, palette= 'spring')\n",
    "sns.set(rc={'figure.figsize':(4,5)})\n",
    "plt.xlabel(\"Year\")\n",
    "plt.ylabel('Quantity ordered')"
   ]
  },
  {
   "cell_type": "markdown",
   "metadata": {},
   "source": [
    "## Total "
   ]
  },
  {
   "cell_type": "code",
   "execution_count": 35,
   "metadata": {
    "scrolled": false
   },
   "outputs": [
    {
     "data": {
      "text/plain": [
       "Text(0, 0.5, 'Grand Total')"
      ]
     },
     "execution_count": 35,
     "metadata": {},
     "output_type": "execute_result"
    },
    {
     "data": {
      "image/png": "[encoded data removed]",
      "text/plain": [
       "<Figure size 288x360 with 1 Axes>"
      ]
     },
     "metadata": {},
     "output_type": "display_data"
    }
   ],
   "source": [
    "sns.barplot(x=Year_df.index, y= Year_df.grand_total, palette= 'spring')\n",
    "sns.set(rc={'figure.figsize':(4,5)})\n",
    "plt.xlabel(\"Year\")\n",
    "plt.ylabel('Grand Total')"
   ]
  },
  {
   "cell_type": "markdown",
   "metadata": {},
   "source": [
    "## Discounts given all over"
   ]
  },
  {
   "cell_type": "code",
   "execution_count": 36,
   "metadata": {
    "scrolled": true
   },
   "outputs": [
    {
     "data": {
      "text/plain": [
       "Text(0, 0.5, 'Total Discount')"
      ]
     },
     "execution_count": 36,
     "metadata": {},
     "output_type": "execute_result"
    },
    {
     "data": {
      "image/png": "[encoded data removed]",
      "text/plain": [
       "<Figure size 288x360 with 1 Axes>"
      ]
     },
     "metadata": {},
     "output_type": "display_data"
    }
   ],
   "source": [
    "sns.barplot(x=Year_df.index, y= Year_df.discount_amount, palette= 'spring')\n",
    "sns.set(rc={'figure.figsize':(4,5)})\n",
    "plt.xlabel(\"Year\")\n",
    "plt.ylabel('Total Discount')"
   ]
  },
  {
   "cell_type": "markdown",
   "metadata": {},
   "source": [
    "## Acc to Months "
   ]
  },
  {
   "cell_type": "code",
   "execution_count": 38,
   "metadata": {
    "scrolled": false
   },
   "outputs": [
    {
     "data": {
      "text/html": [
       "<div>\n",
       "<style scoped>\n",
       "    .dataframe tbody tr th:only-of-type {\n",
       "        vertical-align: middle;\n",
       "    }\n",
       "\n",
       "    .dataframe tbody tr th {\n",
       "        vertical-align: top;\n",
       "    }\n",
       "\n",
       "    .dataframe thead th {\n",
       "        text-align: right;\n",
       "    }\n",
       "</style>\n",
       "<table border=\"1\" class=\"dataframe\">\n",
       "  <thead>\n",
       "    <tr style=\"text-align: right;\">\n",
       "      <th></th>\n",
       "      <th>qty_ordered</th>\n",
       "      <th>grand_total</th>\n",
       "      <th>discount_amount</th>\n",
       "    </tr>\n",
       "    <tr>\n",
       "      <th>Month</th>\n",
       "      <th></th>\n",
       "      <th></th>\n",
       "      <th></th>\n",
       "    </tr>\n",
       "  </thead>\n",
       "  <tbody>\n",
       "    <tr>\n",
       "      <td>1</td>\n",
       "      <td>31876</td>\n",
       "      <td>207617678</td>\n",
       "      <td>4962142</td>\n",
       "    </tr>\n",
       "    <tr>\n",
       "      <td>2</td>\n",
       "      <td>50544</td>\n",
       "      <td>408223445</td>\n",
       "      <td>45910750</td>\n",
       "    </tr>\n",
       "    <tr>\n",
       "      <td>3</td>\n",
       "      <td>109622</td>\n",
       "      <td>560285397</td>\n",
       "      <td>28115976</td>\n",
       "    </tr>\n",
       "    <tr>\n",
       "      <td>4</td>\n",
       "      <td>50043</td>\n",
       "      <td>273064883</td>\n",
       "      <td>5040155</td>\n",
       "    </tr>\n",
       "    <tr>\n",
       "      <td>5</td>\n",
       "      <td>81569</td>\n",
       "      <td>707214407</td>\n",
       "      <td>55708729</td>\n",
       "    </tr>\n",
       "    <tr>\n",
       "      <td>6</td>\n",
       "      <td>51319</td>\n",
       "      <td>472561409</td>\n",
       "      <td>6477714</td>\n",
       "    </tr>\n",
       "    <tr>\n",
       "      <td>7</td>\n",
       "      <td>47768</td>\n",
       "      <td>389422361</td>\n",
       "      <td>2835376</td>\n",
       "    </tr>\n",
       "    <tr>\n",
       "      <td>8</td>\n",
       "      <td>62877</td>\n",
       "      <td>347321984</td>\n",
       "      <td>11954945</td>\n",
       "    </tr>\n",
       "    <tr>\n",
       "      <td>9</td>\n",
       "      <td>27133</td>\n",
       "      <td>162263752</td>\n",
       "      <td>6907330</td>\n",
       "    </tr>\n",
       "    <tr>\n",
       "      <td>10</td>\n",
       "      <td>36552</td>\n",
       "      <td>217516541</td>\n",
       "      <td>10553016</td>\n",
       "    </tr>\n",
       "    <tr>\n",
       "      <td>11</td>\n",
       "      <td>168872</td>\n",
       "      <td>1067862427</td>\n",
       "      <td>111978519</td>\n",
       "    </tr>\n",
       "    <tr>\n",
       "      <td>12</td>\n",
       "      <td>39573</td>\n",
       "      <td>172879196</td>\n",
       "      <td>1452261</td>\n",
       "    </tr>\n",
       "  </tbody>\n",
       "</table>\n",
       "</div>"
      ],
      "text/plain": [
       "       qty_ordered  grand_total  discount_amount\n",
       "Month                                           \n",
       "1            31876    207617678          4962142\n",
       "2            50544    408223445         45910750\n",
       "3           109622    560285397         28115976\n",
       "4            50043    273064883          5040155\n",
       "5            81569    707214407         55708729\n",
       "6            51319    472561409          6477714\n",
       "7            47768    389422361          2835376\n",
       "8            62877    347321984         11954945\n",
       "9            27133    162263752          6907330\n",
       "10           36552    217516541         10553016\n",
       "11          168872   1067862427        111978519\n",
       "12           39573    172879196          1452261"
      ]
     },
     "execution_count": 38,
     "metadata": {},
     "output_type": "execute_result"
    }
   ],
   "source": [
    "Month_df= df.groupby(\"Month\")[\"qty_ordered\",\"grand_total\",\"discount_amount\"].sum()\n",
    "Month_df"
   ]
  },
  {
   "cell_type": "markdown",
   "metadata": {},
   "source": [
    "## Quantity ordered"
   ]
  },
  {
   "cell_type": "code",
   "execution_count": 40,
   "metadata": {},
   "outputs": [
    {
     "data": {
      "text/plain": [
       "Text(0, 0.5, 'Quantity ordered')"
      ]
     },
     "execution_count": 40,
     "metadata": {},
     "output_type": "execute_result"
    },
    {
     "data": {
      "image/png": "[encoded data removed]",
      "text/plain": [
       "<Figure size 864x360 with 1 Axes>"
      ]
     },
     "metadata": {},
     "output_type": "display_data"
    }
   ],
   "source": [
    "sns.barplot(x=Month_df.index, y= Month_df.qty_ordered )\n",
    "sns.set(rc={'figure.figsize':(12,5)})\n",
    "plt.xlabel(\"Months\")\n",
    "plt.ylabel('Quantity ordered')"
   ]
  },
  {
   "cell_type": "markdown",
   "metadata": {},
   "source": [
    "## Total "
   ]
  },
  {
   "cell_type": "code",
   "execution_count": 82,
   "metadata": {
    "scrolled": true
   },
   "outputs": [
    {
     "data": {
      "image/png": "[encoded data removed]",
      "text/plain": [
       "<Figure size 864x360 with 1 Axes>"
      ]
     },
     "metadata": {},
     "output_type": "display_data"
    }
   ],
   "source": [
    "sns.barplot(x=Month_df.index, y= Month_df.grand_total )\n",
    "sns.set(rc={'figure.figsize':(12,5)})\n",
    "\n",
    "plt.xlabel(\"Months\")\n",
    "plt.ylabel('Grand Total')\n",
    "plt.show()"
   ]
  },
  {
   "cell_type": "markdown",
   "metadata": {},
   "source": [
    "## Discounts given  "
   ]
  },
  {
   "cell_type": "code",
   "execution_count": 42,
   "metadata": {},
   "outputs": [
    {
     "data": {
      "text/plain": [
       "Text(0, 0.5, 'Total Discount')"
      ]
     },
     "execution_count": 42,
     "metadata": {},
     "output_type": "execute_result"
    },
    {
     "data": {
      "image/png": "[encoded data removed]",
      "text/plain": [
       "<Figure size 864x360 with 1 Axes>"
      ]
     },
     "metadata": {},
     "output_type": "display_data"
    }
   ],
   "source": [
    "sns.barplot(x=Month_df.index, y= Month_df.discount_amount )\n",
    "sns.set(rc={'figure.figsize':(12,5)})\n",
    "plt.xlabel(\"Months\")\n",
    "plt.ylabel('Total Discount')"
   ]
  },
  {
   "cell_type": "code",
   "execution_count": 44,
   "metadata": {},
   "outputs": [
    {
     "data": {
      "text/html": [
       "<div>\n",
       "<style scoped>\n",
       "    .dataframe tbody tr th:only-of-type {\n",
       "        vertical-align: middle;\n",
       "    }\n",
       "\n",
       "    .dataframe tbody tr th {\n",
       "        vertical-align: top;\n",
       "    }\n",
       "\n",
       "    .dataframe thead th {\n",
       "        text-align: right;\n",
       "    }\n",
       "</style>\n",
       "<table border=\"1\" class=\"dataframe\">\n",
       "  <thead>\n",
       "    <tr style=\"text-align: right;\">\n",
       "      <th></th>\n",
       "      <th>item_id</th>\n",
       "      <th>status</th>\n",
       "      <th>created_at</th>\n",
       "      <th>sku</th>\n",
       "      <th>price</th>\n",
       "      <th>qty_ordered</th>\n",
       "      <th>grand_total</th>\n",
       "      <th>Category</th>\n",
       "      <th>sales_commission_code</th>\n",
       "      <th>discount_amount</th>\n",
       "      <th>payment_method</th>\n",
       "      <th>Working Date</th>\n",
       "      <th>BI Status</th>\n",
       "      <th>Year</th>\n",
       "      <th>Month</th>\n",
       "      <th>Customer Since</th>\n",
       "      <th>M-Y</th>\n",
       "      <th>FY</th>\n",
       "      <th>Customer ID</th>\n",
       "    </tr>\n",
       "  </thead>\n",
       "  <tbody>\n",
       "    <tr>\n",
       "      <td>0</td>\n",
       "      <td>211131</td>\n",
       "      <td>complete</td>\n",
       "      <td>2016-07-01</td>\n",
       "      <td>kreations_YI 06-L</td>\n",
       "      <td>1950</td>\n",
       "      <td>1</td>\n",
       "      <td>1950</td>\n",
       "      <td>Women's Fashion</td>\n",
       "      <td>\\N</td>\n",
       "      <td>0</td>\n",
       "      <td>cod</td>\n",
       "      <td>2016-07-01</td>\n",
       "      <td>#REF!</td>\n",
       "      <td>2016</td>\n",
       "      <td>7</td>\n",
       "      <td>2016-7</td>\n",
       "      <td>7-2016</td>\n",
       "      <td>FY17</td>\n",
       "      <td>1</td>\n",
       "    </tr>\n",
       "    <tr>\n",
       "      <td>1</td>\n",
       "      <td>211133</td>\n",
       "      <td>canceled</td>\n",
       "      <td>2016-07-01</td>\n",
       "      <td>kcc_Buy 2 Frey Air Freshener &amp; Get 1 Kasual Bo...</td>\n",
       "      <td>240</td>\n",
       "      <td>1</td>\n",
       "      <td>240</td>\n",
       "      <td>Beauty &amp; Grooming</td>\n",
       "      <td>\\N</td>\n",
       "      <td>0</td>\n",
       "      <td>cod</td>\n",
       "      <td>2016-07-01</td>\n",
       "      <td>Gross</td>\n",
       "      <td>2016</td>\n",
       "      <td>7</td>\n",
       "      <td>2016-7</td>\n",
       "      <td>7-2016</td>\n",
       "      <td>FY17</td>\n",
       "      <td>2</td>\n",
       "    </tr>\n",
       "    <tr>\n",
       "      <td>2</td>\n",
       "      <td>211134</td>\n",
       "      <td>canceled</td>\n",
       "      <td>2016-07-01</td>\n",
       "      <td>Ego_UP0017-999-MR0</td>\n",
       "      <td>2450</td>\n",
       "      <td>1</td>\n",
       "      <td>2450</td>\n",
       "      <td>Women's Fashion</td>\n",
       "      <td>\\N</td>\n",
       "      <td>0</td>\n",
       "      <td>cod</td>\n",
       "      <td>2016-07-01</td>\n",
       "      <td>Gross</td>\n",
       "      <td>2016</td>\n",
       "      <td>7</td>\n",
       "      <td>2016-7</td>\n",
       "      <td>7-2016</td>\n",
       "      <td>FY17</td>\n",
       "      <td>3</td>\n",
       "    </tr>\n",
       "    <tr>\n",
       "      <td>3</td>\n",
       "      <td>211135</td>\n",
       "      <td>complete</td>\n",
       "      <td>2016-07-01</td>\n",
       "      <td>kcc_krone deal</td>\n",
       "      <td>360</td>\n",
       "      <td>1</td>\n",
       "      <td>60</td>\n",
       "      <td>Beauty &amp; Grooming</td>\n",
       "      <td>R-FSD-52352</td>\n",
       "      <td>300</td>\n",
       "      <td>cod</td>\n",
       "      <td>2016-07-01</td>\n",
       "      <td>Net</td>\n",
       "      <td>2016</td>\n",
       "      <td>7</td>\n",
       "      <td>2016-7</td>\n",
       "      <td>7-2016</td>\n",
       "      <td>FY17</td>\n",
       "      <td>4</td>\n",
       "    </tr>\n",
       "    <tr>\n",
       "      <td>4</td>\n",
       "      <td>211136</td>\n",
       "      <td>order_refunded</td>\n",
       "      <td>2016-07-01</td>\n",
       "      <td>BK7010400AG</td>\n",
       "      <td>555</td>\n",
       "      <td>2</td>\n",
       "      <td>1110</td>\n",
       "      <td>Soghaat</td>\n",
       "      <td>\\N</td>\n",
       "      <td>0</td>\n",
       "      <td>cod</td>\n",
       "      <td>2016-07-01</td>\n",
       "      <td>Valid</td>\n",
       "      <td>2016</td>\n",
       "      <td>7</td>\n",
       "      <td>2016-7</td>\n",
       "      <td>7-2016</td>\n",
       "      <td>FY17</td>\n",
       "      <td>5</td>\n",
       "    </tr>\n",
       "  </tbody>\n",
       "</table>\n",
       "</div>"
      ],
      "text/plain": [
       "   item_id          status created_at  \\\n",
       "0   211131        complete 2016-07-01   \n",
       "1   211133        canceled 2016-07-01   \n",
       "2   211134        canceled 2016-07-01   \n",
       "3   211135        complete 2016-07-01   \n",
       "4   211136  order_refunded 2016-07-01   \n",
       "\n",
       "                                                 sku  price  qty_ordered  \\\n",
       "0                                  kreations_YI 06-L   1950            1   \n",
       "1  kcc_Buy 2 Frey Air Freshener & Get 1 Kasual Bo...    240            1   \n",
       "2                                 Ego_UP0017-999-MR0   2450            1   \n",
       "3                                     kcc_krone deal    360            1   \n",
       "4                                        BK7010400AG    555            2   \n",
       "\n",
       "   grand_total           Category sales_commission_code  discount_amount  \\\n",
       "0         1950    Women's Fashion                    \\N                0   \n",
       "1          240  Beauty & Grooming                    \\N                0   \n",
       "2         2450    Women's Fashion                    \\N                0   \n",
       "3           60  Beauty & Grooming           R-FSD-52352              300   \n",
       "4         1110            Soghaat                    \\N                0   \n",
       "\n",
       "  payment_method Working Date BI Status  Year  Month Customer Since     M-Y  \\\n",
       "0            cod   2016-07-01     #REF!  2016      7         2016-7  7-2016   \n",
       "1            cod   2016-07-01     Gross  2016      7         2016-7  7-2016   \n",
       "2            cod   2016-07-01     Gross  2016      7         2016-7  7-2016   \n",
       "3            cod   2016-07-01       Net  2016      7         2016-7  7-2016   \n",
       "4            cod   2016-07-01     Valid  2016      7         2016-7  7-2016   \n",
       "\n",
       "     FY  Customer ID  \n",
       "0  FY17            1  \n",
       "1  FY17            2  \n",
       "2  FY17            3  \n",
       "3  FY17            4  \n",
       "4  FY17            5  "
      ]
     },
     "execution_count": 44,
     "metadata": {},
     "output_type": "execute_result"
    }
   ],
   "source": [
    "df.head()"
   ]
  },
  {
   "cell_type": "markdown",
   "metadata": {},
   "source": [
    "# Acc to Years"
   ]
  },
  {
   "cell_type": "markdown",
   "metadata": {},
   "source": [
    "## Status"
   ]
  },
  {
   "cell_type": "code",
   "execution_count": 11,
   "metadata": {
    "scrolled": true
   },
   "outputs": [
    {
     "data": {
      "image/png": "[encoded data removed]",
      "text/plain": [
       "<Figure size 1080x360 with 1 Axes>"
      ]
     },
     "metadata": {},
     "output_type": "display_data"
    }
   ],
   "source": [
    "sns.countplot(df.status, hue=df.Year, palette= 'hot' )\n",
    "sns.set(rc={'figure.figsize':(15,5)})\n",
    "plt.xticks(rotation=45)\n",
    "plt.ylabel('Orders')\n",
    "plt.title(\"Order Status\")\n",
    "plt.legend(loc='upper right')\n",
    "plt.show()"
   ]
  },
  {
   "cell_type": "markdown",
   "metadata": {},
   "source": [
    "## Top categories"
   ]
  },
  {
   "cell_type": "code",
   "execution_count": 76,
   "metadata": {
    "scrolled": false
   },
   "outputs": [
    {
     "data": {
      "image/png": "[encoded data removed]",
      "text/plain": [
       "<Figure size 1080x360 with 1 Axes>"
      ]
     },
     "metadata": {},
     "output_type": "display_data"
    }
   ],
   "source": [
    "sns.countplot(df.Category,hue= df.Year, palette = 'spring' )\n",
    "plt.xticks(rotation= 45)\n",
    "plt.ylabel(\"Orders\")\n",
    "plt.title(\"Top categories\")\n",
    "plt.show\n",
    "sns.set(rc={'figure.figsize':(15,5)})"
   ]
  },
  {
   "cell_type": "markdown",
   "metadata": {},
   "source": [
    "## Payment Methods"
   ]
  },
  {
   "cell_type": "code",
   "execution_count": 80,
   "metadata": {
    "scrolled": true
   },
   "outputs": [
    {
     "data": {
      "image/png": "[encoded data removed]",
      "text/plain": [
       "<Figure size 1080x360 with 1 Axes>"
      ]
     },
     "metadata": {},
     "output_type": "display_data"
    }
   ],
   "source": [
    "sns.countplot(df.payment_method,hue= df.Year, palette = 'bright' )\n",
    "plt.xticks(rotation= 45)\n",
    "plt.ylabel(\"Orders\")\n",
    "plt.title(\"Payments Methods\")\n",
    "plt.show\n",
    "sns.set(rc={'figure.figsize':(15,5)})"
   ]
  },
  {
   "cell_type": "markdown",
   "metadata": {},
   "source": [
    "# In 2016 acc to months "
   ]
  },
  {
   "cell_type": "code",
   "execution_count": 108,
   "metadata": {
    "scrolled": false
   },
   "outputs": [
    {
     "data": {
      "text/html": [
       "<div>\n",
       "<style scoped>\n",
       "    .dataframe tbody tr th:only-of-type {\n",
       "        vertical-align: middle;\n",
       "    }\n",
       "\n",
       "    .dataframe tbody tr th {\n",
       "        vertical-align: top;\n",
       "    }\n",
       "\n",
       "    .dataframe thead th {\n",
       "        text-align: right;\n",
       "    }\n",
       "</style>\n",
       "<table border=\"1\" class=\"dataframe\">\n",
       "  <thead>\n",
       "    <tr style=\"text-align: right;\">\n",
       "      <th></th>\n",
       "      <th>qty_ordered</th>\n",
       "      <th>grand_total</th>\n",
       "      <th>discount_amount</th>\n",
       "    </tr>\n",
       "    <tr>\n",
       "      <th>Month</th>\n",
       "      <th></th>\n",
       "      <th></th>\n",
       "      <th></th>\n",
       "    </tr>\n",
       "  </thead>\n",
       "  <tbody>\n",
       "    <tr>\n",
       "      <td>7</td>\n",
       "      <td>10023</td>\n",
       "      <td>43291906</td>\n",
       "      <td>124273</td>\n",
       "    </tr>\n",
       "    <tr>\n",
       "      <td>8</td>\n",
       "      <td>13139</td>\n",
       "      <td>56235661</td>\n",
       "      <td>130814</td>\n",
       "    </tr>\n",
       "    <tr>\n",
       "      <td>9</td>\n",
       "      <td>17416</td>\n",
       "      <td>90308140</td>\n",
       "      <td>5109857</td>\n",
       "    </tr>\n",
       "    <tr>\n",
       "      <td>10</td>\n",
       "      <td>15613</td>\n",
       "      <td>98065914</td>\n",
       "      <td>256228</td>\n",
       "    </tr>\n",
       "    <tr>\n",
       "      <td>11</td>\n",
       "      <td>77169</td>\n",
       "      <td>268296221</td>\n",
       "      <td>29611786</td>\n",
       "    </tr>\n",
       "    <tr>\n",
       "      <td>12</td>\n",
       "      <td>15160</td>\n",
       "      <td>89377450</td>\n",
       "      <td>51391</td>\n",
       "    </tr>\n",
       "  </tbody>\n",
       "</table>\n",
       "</div>"
      ],
      "text/plain": [
       "       qty_ordered  grand_total  discount_amount\n",
       "Month                                           \n",
       "7            10023     43291906           124273\n",
       "8            13139     56235661           130814\n",
       "9            17416     90308140          5109857\n",
       "10           15613     98065914           256228\n",
       "11           77169    268296221         29611786\n",
       "12           15160     89377450            51391"
      ]
     },
     "execution_count": 108,
     "metadata": {},
     "output_type": "execute_result"
    }
   ],
   "source": [
    "df_1= df[df.Year==2016] \n",
    "Month1_df= df_1.groupby(\"Month\")[\"qty_ordered\",\"grand_total\",\"discount_amount\"].sum()\n",
    "Month1_df"
   ]
  },
  {
   "cell_type": "markdown",
   "metadata": {},
   "source": [
    "## Quantity Ordered "
   ]
  },
  {
   "cell_type": "code",
   "execution_count": 116,
   "metadata": {
    "scrolled": true
   },
   "outputs": [
    {
     "data": {
      "text/plain": [
       "Text(0, 0.5, 'Quantity ordered')"
      ]
     },
     "execution_count": 116,
     "metadata": {},
     "output_type": "execute_result"
    },
    {
     "data": {
      "image/png": "[encoded data removed]",
      "text/plain": [
       "<Figure size 576x360 with 1 Axes>"
      ]
     },
     "metadata": {},
     "output_type": "display_data"
    }
   ],
   "source": [
    "sns.barplot(x=Month1_df.index, y= Month1_df.qty_ordered )\n",
    "sns.set(rc={'figure.figsize':(8,5)})\n",
    "plt.xlabel(\"Months\")\n",
    "plt.ylabel('Quantity ordered')"
   ]
  },
  {
   "cell_type": "markdown",
   "metadata": {},
   "source": [
    "## Total "
   ]
  },
  {
   "cell_type": "code",
   "execution_count": 117,
   "metadata": {},
   "outputs": [
    {
     "data": {
      "text/plain": [
       "Text(0, 0.5, 'Total')"
      ]
     },
     "execution_count": 117,
     "metadata": {},
     "output_type": "execute_result"
    },
    {
     "data": {
      "image/png": "[encoded data removed]",
      "text/plain": [
       "<Figure size 576x360 with 1 Axes>"
      ]
     },
     "metadata": {},
     "output_type": "display_data"
    }
   ],
   "source": [
    "sns.barplot(x=Month1_df.index, y= Month1_df.grand_total )\n",
    "sns.set(rc={'figure.figsize':(8,5)})\n",
    "plt.xlabel(\"Months\")\n",
    "plt.ylabel('Total')"
   ]
  },
  {
   "cell_type": "markdown",
   "metadata": {},
   "source": [
    "## Discount "
   ]
  },
  {
   "cell_type": "code",
   "execution_count": 118,
   "metadata": {
    "scrolled": true
   },
   "outputs": [
    {
     "data": {
      "text/plain": [
       "Text(0, 0.5, 'Discount')"
      ]
     },
     "execution_count": 118,
     "metadata": {},
     "output_type": "execute_result"
    },
    {
     "data": {
      "image/png": "[encoded data removed]",
      "text/plain": [
       "<Figure size 576x360 with 1 Axes>"
      ]
     },
     "metadata": {},
     "output_type": "display_data"
    }
   ],
   "source": [
    "sns.barplot(x=Month1_df.index, y= Month1_df.discount_amount )\n",
    "sns.set(rc={'figure.figsize':(8,4)})\n",
    "plt.xlabel(\"Months\")\n",
    "plt.ylabel('Discount')"
   ]
  },
  {
   "cell_type": "markdown",
   "metadata": {},
   "source": [
    "# In 2017 Acc to months "
   ]
  },
  {
   "cell_type": "code",
   "execution_count": 119,
   "metadata": {
    "scrolled": true
   },
   "outputs": [
    {
     "data": {
      "text/html": [
       "<div>\n",
       "<style scoped>\n",
       "    .dataframe tbody tr th:only-of-type {\n",
       "        vertical-align: middle;\n",
       "    }\n",
       "\n",
       "    .dataframe tbody tr th {\n",
       "        vertical-align: top;\n",
       "    }\n",
       "\n",
       "    .dataframe thead th {\n",
       "        text-align: right;\n",
       "    }\n",
       "</style>\n",
       "<table border=\"1\" class=\"dataframe\">\n",
       "  <thead>\n",
       "    <tr style=\"text-align: right;\">\n",
       "      <th></th>\n",
       "      <th>item_id</th>\n",
       "      <th>status</th>\n",
       "      <th>created_at</th>\n",
       "      <th>sku</th>\n",
       "      <th>price</th>\n",
       "      <th>qty_ordered</th>\n",
       "      <th>grand_total</th>\n",
       "      <th>Category</th>\n",
       "      <th>sales_commission_code</th>\n",
       "      <th>discount_amount</th>\n",
       "      <th>payment_method</th>\n",
       "      <th>Working Date</th>\n",
       "      <th>BI Status</th>\n",
       "      <th>Year</th>\n",
       "      <th>Month</th>\n",
       "      <th>Customer Since</th>\n",
       "      <th>M-Y</th>\n",
       "      <th>FY</th>\n",
       "      <th>Customer ID</th>\n",
       "    </tr>\n",
       "  </thead>\n",
       "  <tbody>\n",
       "    <tr>\n",
       "      <td>133909</td>\n",
       "      <td>379040</td>\n",
       "      <td>complete</td>\n",
       "      <td>2017-01-01</td>\n",
       "      <td>Rajesh_Black Glue Gun</td>\n",
       "      <td>825</td>\n",
       "      <td>1</td>\n",
       "      <td>1185</td>\n",
       "      <td>Home &amp; Living</td>\n",
       "      <td>\\N</td>\n",
       "      <td>0</td>\n",
       "      <td>cod</td>\n",
       "      <td>2017-01-01</td>\n",
       "      <td>Net</td>\n",
       "      <td>2017</td>\n",
       "      <td>1</td>\n",
       "      <td>2017-1</td>\n",
       "      <td>1-2017</td>\n",
       "      <td>FY17</td>\n",
       "      <td>30115</td>\n",
       "    </tr>\n",
       "    <tr>\n",
       "      <td>133910</td>\n",
       "      <td>379041</td>\n",
       "      <td>complete</td>\n",
       "      <td>2017-01-01</td>\n",
       "      <td>RAJESH_RAJ223</td>\n",
       "      <td>360</td>\n",
       "      <td>1</td>\n",
       "      <td>1185</td>\n",
       "      <td>Home &amp; Living</td>\n",
       "      <td>\\N</td>\n",
       "      <td>0</td>\n",
       "      <td>cod</td>\n",
       "      <td>2017-01-01</td>\n",
       "      <td>Net</td>\n",
       "      <td>2017</td>\n",
       "      <td>1</td>\n",
       "      <td>2017-1</td>\n",
       "      <td>1-2017</td>\n",
       "      <td>FY17</td>\n",
       "      <td>30115</td>\n",
       "    </tr>\n",
       "    <tr>\n",
       "      <td>133911</td>\n",
       "      <td>379042</td>\n",
       "      <td>complete</td>\n",
       "      <td>2017-01-01</td>\n",
       "      <td>Adolphs_BF-4-M</td>\n",
       "      <td>799</td>\n",
       "      <td>1</td>\n",
       "      <td>799</td>\n",
       "      <td>Men's Fashion</td>\n",
       "      <td>\\N</td>\n",
       "      <td>0</td>\n",
       "      <td>cod</td>\n",
       "      <td>2017-01-01</td>\n",
       "      <td>Net</td>\n",
       "      <td>2017</td>\n",
       "      <td>1</td>\n",
       "      <td>2017-1</td>\n",
       "      <td>1-2017</td>\n",
       "      <td>FY17</td>\n",
       "      <td>30116</td>\n",
       "    </tr>\n",
       "    <tr>\n",
       "      <td>133912</td>\n",
       "      <td>379044</td>\n",
       "      <td>complete</td>\n",
       "      <td>2017-01-01</td>\n",
       "      <td>BO_nonRC-Jeep-Red</td>\n",
       "      <td>250</td>\n",
       "      <td>1</td>\n",
       "      <td>599</td>\n",
       "      <td>Kids &amp; Baby</td>\n",
       "      <td>\\N</td>\n",
       "      <td>0</td>\n",
       "      <td>cod</td>\n",
       "      <td>2017-01-01</td>\n",
       "      <td>Net</td>\n",
       "      <td>2017</td>\n",
       "      <td>1</td>\n",
       "      <td>2016-11</td>\n",
       "      <td>1-2017</td>\n",
       "      <td>FY17</td>\n",
       "      <td>15531</td>\n",
       "    </tr>\n",
       "    <tr>\n",
       "      <td>133913</td>\n",
       "      <td>379045</td>\n",
       "      <td>complete</td>\n",
       "      <td>2017-01-01</td>\n",
       "      <td>BP_PS03940-Green</td>\n",
       "      <td>349</td>\n",
       "      <td>1</td>\n",
       "      <td>599</td>\n",
       "      <td>School &amp; Education</td>\n",
       "      <td>\\N</td>\n",
       "      <td>0</td>\n",
       "      <td>cod</td>\n",
       "      <td>2017-01-01</td>\n",
       "      <td>Net</td>\n",
       "      <td>2017</td>\n",
       "      <td>1</td>\n",
       "      <td>2016-11</td>\n",
       "      <td>1-2017</td>\n",
       "      <td>FY17</td>\n",
       "      <td>15531</td>\n",
       "    </tr>\n",
       "  </tbody>\n",
       "</table>\n",
       "</div>"
      ],
      "text/plain": [
       "        item_id    status created_at                    sku  price  \\\n",
       "133909   379040  complete 2017-01-01  Rajesh_Black Glue Gun    825   \n",
       "133910   379041  complete 2017-01-01          RAJESH_RAJ223    360   \n",
       "133911   379042  complete 2017-01-01         Adolphs_BF-4-M    799   \n",
       "133912   379044  complete 2017-01-01      BO_nonRC-Jeep-Red    250   \n",
       "133913   379045  complete 2017-01-01       BP_PS03940-Green    349   \n",
       "\n",
       "        qty_ordered  grand_total            Category sales_commission_code  \\\n",
       "133909            1         1185       Home & Living                    \\N   \n",
       "133910            1         1185       Home & Living                    \\N   \n",
       "133911            1          799       Men's Fashion                    \\N   \n",
       "133912            1          599         Kids & Baby                    \\N   \n",
       "133913            1          599  School & Education                    \\N   \n",
       "\n",
       "        discount_amount payment_method Working Date BI Status  Year  Month  \\\n",
       "133909                0            cod   2017-01-01       Net  2017      1   \n",
       "133910                0            cod   2017-01-01       Net  2017      1   \n",
       "133911                0            cod   2017-01-01       Net  2017      1   \n",
       "133912                0            cod   2017-01-01       Net  2017      1   \n",
       "133913                0            cod   2017-01-01       Net  2017      1   \n",
       "\n",
       "       Customer Since     M-Y    FY  Customer ID  \n",
       "133909         2017-1  1-2017  FY17        30115  \n",
       "133910         2017-1  1-2017  FY17        30115  \n",
       "133911         2017-1  1-2017  FY17        30116  \n",
       "133912        2016-11  1-2017  FY17        15531  \n",
       "133913        2016-11  1-2017  FY17        15531  "
      ]
     },
     "execution_count": 119,
     "metadata": {},
     "output_type": "execute_result"
    }
   ],
   "source": [
    "df_2= df[df.Year==2017] \n",
    "df_2.head()"
   ]
  },
  {
   "cell_type": "code",
   "execution_count": 120,
   "metadata": {
    "scrolled": true
   },
   "outputs": [
    {
     "data": {
      "text/html": [
       "<div>\n",
       "<style scoped>\n",
       "    .dataframe tbody tr th:only-of-type {\n",
       "        vertical-align: middle;\n",
       "    }\n",
       "\n",
       "    .dataframe tbody tr th {\n",
       "        vertical-align: top;\n",
       "    }\n",
       "\n",
       "    .dataframe thead th {\n",
       "        text-align: right;\n",
       "    }\n",
       "</style>\n",
       "<table border=\"1\" class=\"dataframe\">\n",
       "  <thead>\n",
       "    <tr style=\"text-align: right;\">\n",
       "      <th></th>\n",
       "      <th>qty_ordered</th>\n",
       "      <th>grand_total</th>\n",
       "      <th>discount_amount</th>\n",
       "    </tr>\n",
       "    <tr>\n",
       "      <th>Month</th>\n",
       "      <th></th>\n",
       "      <th></th>\n",
       "      <th></th>\n",
       "    </tr>\n",
       "  </thead>\n",
       "  <tbody>\n",
       "    <tr>\n",
       "      <td>1</td>\n",
       "      <td>15859</td>\n",
       "      <td>118948134</td>\n",
       "      <td>744956</td>\n",
       "    </tr>\n",
       "    <tr>\n",
       "      <td>2</td>\n",
       "      <td>14952</td>\n",
       "      <td>89126082</td>\n",
       "      <td>100427</td>\n",
       "    </tr>\n",
       "    <tr>\n",
       "      <td>3</td>\n",
       "      <td>22778</td>\n",
       "      <td>140202339</td>\n",
       "      <td>1534616</td>\n",
       "    </tr>\n",
       "    <tr>\n",
       "      <td>4</td>\n",
       "      <td>31836</td>\n",
       "      <td>160986333</td>\n",
       "      <td>2344237</td>\n",
       "    </tr>\n",
       "    <tr>\n",
       "      <td>5</td>\n",
       "      <td>41879</td>\n",
       "      <td>247996580</td>\n",
       "      <td>23320100</td>\n",
       "    </tr>\n",
       "    <tr>\n",
       "      <td>6</td>\n",
       "      <td>31001</td>\n",
       "      <td>200558953</td>\n",
       "      <td>3530477</td>\n",
       "    </tr>\n",
       "    <tr>\n",
       "      <td>7</td>\n",
       "      <td>23844</td>\n",
       "      <td>80740045</td>\n",
       "      <td>2026934</td>\n",
       "    </tr>\n",
       "    <tr>\n",
       "      <td>8</td>\n",
       "      <td>33553</td>\n",
       "      <td>134201433</td>\n",
       "      <td>6675247</td>\n",
       "    </tr>\n",
       "    <tr>\n",
       "      <td>9</td>\n",
       "      <td>9717</td>\n",
       "      <td>71955612</td>\n",
       "      <td>1797473</td>\n",
       "    </tr>\n",
       "    <tr>\n",
       "      <td>10</td>\n",
       "      <td>20939</td>\n",
       "      <td>119450627</td>\n",
       "      <td>10296788</td>\n",
       "    </tr>\n",
       "    <tr>\n",
       "      <td>11</td>\n",
       "      <td>91703</td>\n",
       "      <td>799566206</td>\n",
       "      <td>82366733</td>\n",
       "    </tr>\n",
       "    <tr>\n",
       "      <td>12</td>\n",
       "      <td>24413</td>\n",
       "      <td>83501746</td>\n",
       "      <td>1400870</td>\n",
       "    </tr>\n",
       "  </tbody>\n",
       "</table>\n",
       "</div>"
      ],
      "text/plain": [
       "       qty_ordered  grand_total  discount_amount\n",
       "Month                                           \n",
       "1            15859    118948134           744956\n",
       "2            14952     89126082           100427\n",
       "3            22778    140202339          1534616\n",
       "4            31836    160986333          2344237\n",
       "5            41879    247996580         23320100\n",
       "6            31001    200558953          3530477\n",
       "7            23844     80740045          2026934\n",
       "8            33553    134201433          6675247\n",
       "9             9717     71955612          1797473\n",
       "10           20939    119450627         10296788\n",
       "11           91703    799566206         82366733\n",
       "12           24413     83501746          1400870"
      ]
     },
     "execution_count": 120,
     "metadata": {},
     "output_type": "execute_result"
    }
   ],
   "source": [
    "Month2_df= df_2.groupby(\"Month\")[\"qty_ordered\",\"grand_total\",\"discount_amount\"].sum()\n",
    "Month2_df"
   ]
  },
  {
   "cell_type": "markdown",
   "metadata": {},
   "source": [
    "## Quantity ordered "
   ]
  },
  {
   "cell_type": "code",
   "execution_count": 122,
   "metadata": {
    "scrolled": false
   },
   "outputs": [
    {
     "data": {
      "text/plain": [
       "Text(0, 0.5, 'Quantity ordered')"
      ]
     },
     "execution_count": 122,
     "metadata": {},
     "output_type": "execute_result"
    },
    {
     "data": {
      "image/png": "[encoded data removed]",
      "text/plain": [
       "<Figure size 864x360 with 1 Axes>"
      ]
     },
     "metadata": {},
     "output_type": "display_data"
    }
   ],
   "source": [
    "sns.barplot(x=Month2_df.index, y= Month2_df.qty_ordered )\n",
    "sns.set(rc={'figure.figsize':(12,5)})\n",
    "plt.xlabel(\"Months\")\n",
    "plt.ylabel('Quantity ordered')"
   ]
  },
  {
   "cell_type": "markdown",
   "metadata": {},
   "source": [
    "## Total "
   ]
  },
  {
   "cell_type": "code",
   "execution_count": 123,
   "metadata": {
    "scrolled": false
   },
   "outputs": [
    {
     "data": {
      "text/plain": [
       "Text(0, 0.5, 'Total')"
      ]
     },
     "execution_count": 123,
     "metadata": {},
     "output_type": "execute_result"
    },
    {
     "data": {
      "image/png": "[encoded data removed]",
      "text/plain": [
       "<Figure size 864x360 with 1 Axes>"
      ]
     },
     "metadata": {},
     "output_type": "display_data"
    }
   ],
   "source": [
    "sns.barplot(x=Month2_df.index, y= Month2_df.grand_total )\n",
    "sns.set(rc={'figure.figsize':(12,5)})\n",
    "plt.xlabel(\"Months\")\n",
    "plt.ylabel('Total')"
   ]
  },
  {
   "cell_type": "markdown",
   "metadata": {},
   "source": [
    "## Discounts "
   ]
  },
  {
   "cell_type": "code",
   "execution_count": 124,
   "metadata": {
    "scrolled": true
   },
   "outputs": [
    {
     "data": {
      "text/plain": [
       "Text(0, 0.5, 'Discount')"
      ]
     },
     "execution_count": 124,
     "metadata": {},
     "output_type": "execute_result"
    },
    {
     "data": {
      "image/png": "[encoded data removed]",
      "text/plain": [
       "<Figure size 864x360 with 1 Axes>"
      ]
     },
     "metadata": {},
     "output_type": "display_data"
    }
   ],
   "source": [
    "sns.barplot(x=Month2_df.index, y= Month2_df.discount_amount )\n",
    "sns.set(rc={'figure.figsize':(12,5)})\n",
    "plt.xlabel(\"Months\")\n",
    "plt.ylabel('Discount')"
   ]
  },
  {
   "cell_type": "markdown",
   "metadata": {},
   "source": [
    "# In 2018 acc to months "
   ]
  },
  {
   "cell_type": "code",
   "execution_count": 126,
   "metadata": {
    "scrolled": true
   },
   "outputs": [
    {
     "data": {
      "text/html": [
       "<div>\n",
       "<style scoped>\n",
       "    .dataframe tbody tr th:only-of-type {\n",
       "        vertical-align: middle;\n",
       "    }\n",
       "\n",
       "    .dataframe tbody tr th {\n",
       "        vertical-align: top;\n",
       "    }\n",
       "\n",
       "    .dataframe thead th {\n",
       "        text-align: right;\n",
       "    }\n",
       "</style>\n",
       "<table border=\"1\" class=\"dataframe\">\n",
       "  <thead>\n",
       "    <tr style=\"text-align: right;\">\n",
       "      <th></th>\n",
       "      <th>qty_ordered</th>\n",
       "      <th>grand_total</th>\n",
       "      <th>discount_amount</th>\n",
       "    </tr>\n",
       "    <tr>\n",
       "      <th>Month</th>\n",
       "      <th></th>\n",
       "      <th></th>\n",
       "      <th></th>\n",
       "    </tr>\n",
       "  </thead>\n",
       "  <tbody>\n",
       "    <tr>\n",
       "      <td>1</td>\n",
       "      <td>16017</td>\n",
       "      <td>88669544</td>\n",
       "      <td>4217186</td>\n",
       "    </tr>\n",
       "    <tr>\n",
       "      <td>2</td>\n",
       "      <td>35592</td>\n",
       "      <td>319097363</td>\n",
       "      <td>45810323</td>\n",
       "    </tr>\n",
       "    <tr>\n",
       "      <td>3</td>\n",
       "      <td>86844</td>\n",
       "      <td>420083058</td>\n",
       "      <td>26581360</td>\n",
       "    </tr>\n",
       "    <tr>\n",
       "      <td>4</td>\n",
       "      <td>18207</td>\n",
       "      <td>112078550</td>\n",
       "      <td>2695918</td>\n",
       "    </tr>\n",
       "    <tr>\n",
       "      <td>5</td>\n",
       "      <td>39690</td>\n",
       "      <td>459217827</td>\n",
       "      <td>32388629</td>\n",
       "    </tr>\n",
       "    <tr>\n",
       "      <td>6</td>\n",
       "      <td>20318</td>\n",
       "      <td>272002456</td>\n",
       "      <td>2947237</td>\n",
       "    </tr>\n",
       "    <tr>\n",
       "      <td>7</td>\n",
       "      <td>13901</td>\n",
       "      <td>265390410</td>\n",
       "      <td>684169</td>\n",
       "    </tr>\n",
       "    <tr>\n",
       "      <td>8</td>\n",
       "      <td>16185</td>\n",
       "      <td>156884890</td>\n",
       "      <td>5148884</td>\n",
       "    </tr>\n",
       "  </tbody>\n",
       "</table>\n",
       "</div>"
      ],
      "text/plain": [
       "       qty_ordered  grand_total  discount_amount\n",
       "Month                                           \n",
       "1            16017     88669544          4217186\n",
       "2            35592    319097363         45810323\n",
       "3            86844    420083058         26581360\n",
       "4            18207    112078550          2695918\n",
       "5            39690    459217827         32388629\n",
       "6            20318    272002456          2947237\n",
       "7            13901    265390410           684169\n",
       "8            16185    156884890          5148884"
      ]
     },
     "execution_count": 126,
     "metadata": {},
     "output_type": "execute_result"
    }
   ],
   "source": [
    "df_3= df[df.Year==2018] \n",
    "Month3_df= df_3.groupby(\"Month\")[\"qty_ordered\",\"grand_total\",\"discount_amount\"].sum()\n",
    "Month3_df"
   ]
  },
  {
   "cell_type": "markdown",
   "metadata": {},
   "source": [
    "## Quantity ordered "
   ]
  },
  {
   "cell_type": "code",
   "execution_count": 127,
   "metadata": {
    "scrolled": true
   },
   "outputs": [
    {
     "data": {
      "text/plain": [
       "Text(0, 0.5, 'Quantity ordered')"
      ]
     },
     "execution_count": 127,
     "metadata": {},
     "output_type": "execute_result"
    },
    {
     "data": {
      "image/png": "[encoded data removed]",
      "text/plain": [
       "<Figure size 864x360 with 1 Axes>"
      ]
     },
     "metadata": {},
     "output_type": "display_data"
    }
   ],
   "source": [
    "sns.barplot(x=Month3_df.index, y= Month3_df.qty_ordered )\n",
    "sns.set(rc={'figure.figsize':(12,5)})\n",
    "plt.xlabel(\"Months\")\n",
    "plt.ylabel('Quantity ordered')"
   ]
  },
  {
   "cell_type": "markdown",
   "metadata": {},
   "source": [
    "##  Total"
   ]
  },
  {
   "cell_type": "code",
   "execution_count": 130,
   "metadata": {},
   "outputs": [
    {
     "data": {
      "text/plain": [
       "Text(0, 0.5, 'Total')"
      ]
     },
     "execution_count": 130,
     "metadata": {},
     "output_type": "execute_result"
    },
    {
     "data": {
      "image/png": "[encoded data removed]",
      "text/plain": [
       "<Figure size 864x360 with 1 Axes>"
      ]
     },
     "metadata": {},
     "output_type": "display_data"
    }
   ],
   "source": [
    "sns.barplot(x=Month3_df.index, y= Month3_df.grand_total )\n",
    "sns.set(rc={'figure.figsize':(12,5)})\n",
    "plt.xlabel(\"Months\")\n",
    "plt.ylabel('Total')"
   ]
  },
  {
   "cell_type": "markdown",
   "metadata": {},
   "source": [
    "## Discount  "
   ]
  },
  {
   "cell_type": "code",
   "execution_count": 131,
   "metadata": {},
   "outputs": [
    {
     "data": {
      "text/plain": [
       "Text(0, 0.5, 'discount')"
      ]
     },
     "execution_count": 131,
     "metadata": {},
     "output_type": "execute_result"
    },
    {
     "data": {
      "image/png": "[encoded data removed]",
      "text/plain": [
       "<Figure size 864x360 with 1 Axes>"
      ]
     },
     "metadata": {},
     "output_type": "display_data"
    }
   ],
   "source": [
    "sns.barplot(x=Month3_df.index, y= Month3_df.discount_amount )\n",
    "sns.set(rc={'figure.figsize':(12,5)})\n",
    "plt.xlabel(\"Months\")\n",
    "plt.ylabel('discount')"
   ]
  }
 ],
 "metadata": {
  "kernelspec": {
   "display_name": "Python 3",
   "language": "python",
   "name": "python3"
  },
  "language_info": {
   "codemirror_mode": {
    "name": "ipython",
    "version": 3
   },
   "file_extension": ".py",
   "mimetype": "text/x-python",
   "name": "python",
   "nbconvert_exporter": "python",
   "pygments_lexer": "ipython3",
   "version": "3.7.4"
  }
 },
 "nbformat": 4,
 "nbformat_minor": 2
}
